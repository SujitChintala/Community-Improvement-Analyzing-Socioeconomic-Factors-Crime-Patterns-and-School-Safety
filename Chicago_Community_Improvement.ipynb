{
 "cells": [
  {
   "cell_type": "markdown",
   "id": "fb39db72-79ee-4e90-a37d-9ea8c402408f",
   "metadata": {},
   "source": [
    "# **Community Improvement: Analyzing Socioeconomic Factors, Crime Patterns, and School Safety in Chicago.**"
   ]
  },
  {
   "cell_type": "markdown",
   "id": "1bc8c733-12a1-4570-a2a7-70eb2a6bf75b",
   "metadata": {},
   "source": [
    "## **Introduction to the Data:**\n",
    "### This project involves analyzing three key datasets related to the city of Chicago:\n",
    "\n",
    "#### **Chicago Census Data:** This dataset provides demographic information such as income levels, education, and other socio-economic factors for different regions within Chicago. It serves as a foundation for understanding the socio-economic environment of the city.\n",
    "\n",
    "#### **Chicago Crime Data:** This dataset contains detailed information about crimes reported in Chicago, including the type of crime, the location, and the date of occurrence etc. This data is crucial for analyzing crime patterns, identifying crime hotspots, and understanding the relationship between crime and various socio-economic factors.\n",
    "\n",
    "#### **Chicago Public Schools Data:** This dataset includes information about public schools in Chicago, such as school ratings, graduation rates, student demographics, and overall performance."
   ]
  },
  {
   "cell_type": "markdown",
   "id": "553eef62-0d19-457e-bbec-c773e9ba74fc",
   "metadata": {},
   "source": [
    "# **`Objectives:`**\n",
    "## `1. To identify the key factors contributing to a higher hardship index and suggest steps to mitigate it.`\n",
    "## `2. To determine the most crime-prone locations and identify the types of crimes most likely to occur.`\n",
    "## `3. To assess the safety levels of different types of schools.`"
   ]
  },
  {
   "cell_type": "code",
   "execution_count": null,
   "id": "6d272d90-56df-471c-8065-389fc5ef92db",
   "metadata": {},
   "outputs": [],
   "source": []
  },
  {
   "cell_type": "markdown",
   "id": "c2a78e0d-2244-4ba6-9139-da34e387b800",
   "metadata": {},
   "source": [
    "- #### `ipython-sql` library connects the Jupyter Notebook to the SQL database and enables us to use magic SQL commands (%sql and %%sql) to query SQL statements directly from the notebook."
   ]
  },
  {
   "cell_type": "code",
   "execution_count": 2,
   "id": "4fc3bbc5-4aec-4fc5-b936-0324f383a9bb",
   "metadata": {},
   "outputs": [
    {
     "name": "stdout",
     "output_type": "stream",
     "text": [
      "Requirement already satisfied: ipython-sql in c:\\users\\hi\\appdata\\roaming\\python\\python312\\site-packages (0.5.0)\n",
      "Requirement already satisfied: prettytable in c:\\users\\hi\\appdata\\roaming\\python\\python312\\site-packages (from ipython-sql) (3.14.0)\n",
      "Requirement already satisfied: ipython in c:\\users\\hi\\anaconda3\\lib\\site-packages (from ipython-sql) (8.25.0)\n",
      "Requirement already satisfied: sqlalchemy>=2.0 in c:\\users\\hi\\anaconda3\\lib\\site-packages (from ipython-sql) (2.0.30)\n",
      "Requirement already satisfied: sqlparse in c:\\users\\hi\\appdata\\roaming\\python\\python312\\site-packages (from ipython-sql) (0.5.3)\n",
      "Requirement already satisfied: six in c:\\users\\hi\\anaconda3\\lib\\site-packages (from ipython-sql) (1.16.0)\n",
      "Requirement already satisfied: ipython-genutils in c:\\users\\hi\\anaconda3\\lib\\site-packages (from ipython-sql) (0.2.0)\n",
      "Requirement already satisfied: typing-extensions>=4.6.0 in c:\\users\\hi\\anaconda3\\lib\\site-packages (from sqlalchemy>=2.0->ipython-sql) (4.12.2)\n",
      "Requirement already satisfied: greenlet!=0.4.17 in c:\\users\\hi\\anaconda3\\lib\\site-packages (from sqlalchemy>=2.0->ipython-sql) (3.0.1)\n",
      "Requirement already satisfied: decorator in c:\\users\\hi\\anaconda3\\lib\\site-packages (from ipython->ipython-sql) (5.1.1)\n",
      "Requirement already satisfied: jedi>=0.16 in c:\\users\\hi\\anaconda3\\lib\\site-packages (from ipython->ipython-sql) (0.18.1)\n",
      "Requirement already satisfied: matplotlib-inline in c:\\users\\hi\\anaconda3\\lib\\site-packages (from ipython->ipython-sql) (0.1.6)\n",
      "Requirement already satisfied: prompt-toolkit<3.1.0,>=3.0.41 in c:\\users\\hi\\anaconda3\\lib\\site-packages (from ipython->ipython-sql) (3.0.43)\n",
      "Requirement already satisfied: pygments>=2.4.0 in c:\\users\\hi\\anaconda3\\lib\\site-packages (from ipython->ipython-sql) (2.15.1)\n",
      "Requirement already satisfied: stack-data in c:\\users\\hi\\anaconda3\\lib\\site-packages (from ipython->ipython-sql) (0.2.0)\n",
      "Requirement already satisfied: traitlets>=5.13.0 in c:\\users\\hi\\anaconda3\\lib\\site-packages (from ipython->ipython-sql) (5.14.3)\n",
      "Requirement already satisfied: colorama in c:\\users\\hi\\anaconda3\\lib\\site-packages (from ipython->ipython-sql) (0.4.6)\n",
      "Requirement already satisfied: wcwidth in c:\\users\\hi\\anaconda3\\lib\\site-packages (from prettytable->ipython-sql) (0.2.5)\n",
      "Requirement already satisfied: parso<0.9.0,>=0.8.0 in c:\\users\\hi\\anaconda3\\lib\\site-packages (from jedi>=0.16->ipython->ipython-sql) (0.8.3)\n",
      "Requirement already satisfied: executing in c:\\users\\hi\\anaconda3\\lib\\site-packages (from stack-data->ipython->ipython-sql) (0.8.3)\n",
      "Requirement already satisfied: asttokens in c:\\users\\hi\\anaconda3\\lib\\site-packages (from stack-data->ipython->ipython-sql) (2.0.5)\n",
      "Requirement already satisfied: pure-eval in c:\\users\\hi\\anaconda3\\lib\\site-packages (from stack-data->ipython->ipython-sql) (0.2.2)\n"
     ]
    }
   ],
   "source": [
    "# Installing ipython-sql.\n",
    "!pip install ipython-sql"
   ]
  },
  {
   "cell_type": "markdown",
   "id": "a30e10de-9701-49f0-80c3-ec7d5b837e37",
   "metadata": {},
   "source": [
    "- #### The command `%load_ext sql` is used to load the ipython-sql extension in our Jupyter Notebook, enabling the use of SQL magic commands (%sql and %%sql)."
   ]
  },
  {
   "cell_type": "code",
   "execution_count": 4,
   "id": "5fb00c2f-f993-4b34-a2f4-997d91d940a1",
   "metadata": {},
   "outputs": [],
   "source": [
    "# Loading the extension in our notebook.\n",
    "%load_ext sql"
   ]
  },
  {
   "cell_type": "markdown",
   "id": "82fd89f6-c839-456c-acbc-100f3d7e9037",
   "metadata": {},
   "source": [
    "- #### The command `%sql sqlite:///ibm_sql.db` is used to connect to an `sqlite database`, in this case its `ibm_sql.db` . If it already exists, then it will connect to it, and if it doesn't exist, then it will create an sqlite database with the specified name and then connect to it."
   ]
  },
  {
   "cell_type": "code",
   "execution_count": 6,
   "id": "aaa62791-9c9f-4e6f-bc7b-6aded03b798f",
   "metadata": {},
   "outputs": [],
   "source": [
    "# Connecting to the sqlite database with the name 'ibm_sql.db'\n",
    "%sql sqlite:///ibm_sql.db"
   ]
  },
  {
   "cell_type": "markdown",
   "id": "c7e07b6b-8256-43f9-959f-265d44420f9c",
   "metadata": {
    "jp-MarkdownHeadingCollapsed": true
   },
   "source": [
    "- #### The `prettytable` library in Python is used to make tabular data look neat, organized, and visually appealing in a simple ASCII format."
   ]
  },
  {
   "cell_type": "code",
   "execution_count": 7,
   "id": "30251075-5780-4499-81bf-70f209c5dd3e",
   "metadata": {},
   "outputs": [
    {
     "name": "stdout",
     "output_type": "stream",
     "text": [
      "Requirement already satisfied: prettytable in c:\\users\\hi\\appdata\\roaming\\python\\python312\\site-packages (3.14.0)\n",
      "Requirement already satisfied: wcwidth in c:\\users\\hi\\anaconda3\\lib\\site-packages (from prettytable) (0.2.5)\n"
     ]
    }
   ],
   "source": [
    "# Installing prettytable library.\n",
    "!pip install prettytable"
   ]
  },
  {
   "cell_type": "code",
   "execution_count": 8,
   "id": "b5e77762-e020-45e7-b870-f008e4384f0c",
   "metadata": {},
   "outputs": [],
   "source": [
    "import prettytable \n",
    "prettytable.DEFAULT = 'DEFAULT'"
   ]
  },
  {
   "cell_type": "markdown",
   "id": "302ec006-4d81-4220-9840-a1af87275114",
   "metadata": {},
   "source": [
    "#### We will now be importing all the necessary libraries for this project."
   ]
  },
  {
   "cell_type": "code",
   "execution_count": 10,
   "id": "b730a8f4-a010-47f9-9649-63abbe5f559e",
   "metadata": {},
   "outputs": [],
   "source": [
    "# importing all the necessary libraries for this project.\n",
    "import pandas as pd\n",
    "import matplotlib.pyplot as plt\n",
    "%matplotlib inline\n",
    "import seaborn as sb"
   ]
  },
  {
   "cell_type": "markdown",
   "id": "50e2e088-6bbd-432e-9add-d64ee9326e48",
   "metadata": {},
   "source": [
    "- #### `sqlite3` is an easy-to-use, lightweight and serverless database library in Python that allows us to create and connect to SQLite databases."
   ]
  },
  {
   "cell_type": "code",
   "execution_count": 12,
   "id": "7e1d080f-b1ca-420b-818e-c3236efb6317",
   "metadata": {},
   "outputs": [],
   "source": [
    "# Importing sqlite3.\n",
    "import sqlite3"
   ]
  },
  {
   "cell_type": "code",
   "execution_count": 14,
   "id": "812a6906-ffac-4827-9328-3970d2e29326",
   "metadata": {},
   "outputs": [],
   "source": [
    "# Creating a connection using sqlite3 with 'ibm_sql' database that I've created previously.\n",
    "con = sqlite3.connect('ibm_sql.db')"
   ]
  },
  {
   "cell_type": "code",
   "execution_count": 16,
   "id": "c771eeec-9001-4da3-a59d-ed62e06ee4b7",
   "metadata": {},
   "outputs": [],
   "source": [
    "# Loading the data(which is in csv format) using pandas.\n",
    "chicago_census_data = pd.read_csv('https://cf-courses-data.s3.us.cloud-object-storage.appdomain.cloud/IBMDeveloperSkillsNetwork-DB0201EN-SkillsNetwork/labs/FinalModule_Coursera_V5/data/ChicagoCensusData.csv?utm_medium=Exinfluencer&utm_source=Exinfluencer&utm_content=000026UJ&utm_term=10006555&utm_id=NA-SkillsNetwork-Channel-SkillsNetworkCoursesIBMDeveloperSkillsNetworkDB0201ENSkillsNetwork20127838-2021-01-01')"
   ]
  },
  {
   "cell_type": "code",
   "execution_count": 18,
   "id": "5660f352-cb29-43ab-82e6-64bae7d7becc",
   "metadata": {},
   "outputs": [
    {
     "data": {
      "text/plain": [
       "78"
      ]
     },
     "execution_count": 18,
     "metadata": {},
     "output_type": "execute_result"
    }
   ],
   "source": [
    "# Loading the pandas dataframe to sql database as a table with the name 'chicago_census_data'.\n",
    "chicago_census_data.to_sql('chicago_census_data', con, if_exists='replace', index=False, method='multi')"
   ]
  },
  {
   "cell_type": "code",
   "execution_count": 20,
   "id": "ae38202f-bc70-4b10-a89b-033a862f5fbf",
   "metadata": {},
   "outputs": [
    {
     "data": {
      "text/plain": [
       "566"
      ]
     },
     "execution_count": 20,
     "metadata": {},
     "output_type": "execute_result"
    }
   ],
   "source": [
    "chicago_public_schools = pd.read_csv('https://cf-courses-data.s3.us.cloud-object-storage.appdomain.cloud/IBMDeveloperSkillsNetwork-DB0201EN-SkillsNetwork/labs/FinalModule_Coursera_V5/data/ChicagoPublicSchools.csv?utm_medium=Exinfluencer&utm_source=Exinfluencer&utm_content=000026UJ&utm_term=10006555&utm_id=NA-SkillsNetwork-Channel-SkillsNetworkCoursesIBMDeveloperSkillsNetworkDB0201ENSkillsNetwork20127838-2021-01-01')\n",
    "chicago_public_schools.to_sql('chicago_public_schools', con, if_exists='replace', index=False, method='multi')"
   ]
  },
  {
   "cell_type": "code",
   "execution_count": 246,
   "id": "2225073d-8ae6-4c84-acc0-7fc8b3b5b43f",
   "metadata": {},
   "outputs": [
    {
     "data": {
      "text/plain": [
       "533"
      ]
     },
     "execution_count": 246,
     "metadata": {},
     "output_type": "execute_result"
    }
   ],
   "source": [
    "chicago_crime_data = pd.read_csv('https://cf-courses-data.s3.us.cloud-object-storage.appdomain.cloud/IBMDeveloperSkillsNetwork-DB0201EN-SkillsNetwork/labs/FinalModule_Coursera_V5/data/ChicagoCrimeData.csv?utm_medium=Exinfluencer&utm_source=Exinfluencer&utm_content=000026UJ&utm_term=10006555&utm_id=NA-SkillsNetwork-Channel-SkillsNetworkCoursesIBMDeveloperSkillsNetworkDB0201ENSkillsNetwork20127838-2021-01-01')\n",
    "chicago_crime_data.to_sql('chicago_crime_data', con, if_exists='replace', index=False, method='multi')"
   ]
  },
  {
   "cell_type": "markdown",
   "id": "c8319159-8143-4a43-b1bb-2f9ea8e1cba9",
   "metadata": {},
   "source": [
    "## We now have all our data in place. So lets start playing with it..."
   ]
  },
  {
   "cell_type": "markdown",
   "id": "e8dc1e94-f9f3-430c-b98a-9284f66143a7",
   "metadata": {},
   "source": [
    "## First let's solve some problems using magic sql statements and then we'll do some beautiuful visualizations."
   ]
  },
  {
   "cell_type": "markdown",
   "id": "e73ea6e9-5713-4507-bc2f-1fb30946585e",
   "metadata": {},
   "source": [
    "# `Problem 1`\n",
    "#### Find the total number of crimes recorded in the CRIME table."
   ]
  },
  {
   "cell_type": "code",
   "execution_count": 628,
   "id": "375238a8-9589-4236-8ee6-36b94a55049a",
   "metadata": {},
   "outputs": [
    {
     "name": "stdout",
     "output_type": "stream",
     "text": [
      " * sqlite:///ibm_sql.db\n",
      "Done.\n"
     ]
    },
    {
     "data": {
      "text/html": [
       "<table>\n",
       "    <thead>\n",
       "        <tr>\n",
       "            <th>COUNT(ID)</th>\n",
       "        </tr>\n",
       "    </thead>\n",
       "    <tbody>\n",
       "        <tr>\n",
       "            <td>533</td>\n",
       "        </tr>\n",
       "    </tbody>\n",
       "</table>"
      ],
      "text/plain": [
       "[(533,)]"
      ]
     },
     "execution_count": 628,
     "metadata": {},
     "output_type": "execute_result"
    }
   ],
   "source": [
    "%%sql\n",
    "SELECT COUNT(ID) FROM chicago_crime_data;"
   ]
  },
  {
   "cell_type": "markdown",
   "id": "62dbfff1-1715-4fe8-91fd-4bd18ad90ee4",
   "metadata": {},
   "source": [
    "# `Problem 2`\n",
    "#### List community area names and numbers with per capita income less than 11000."
   ]
  },
  {
   "cell_type": "code",
   "execution_count": 22,
   "id": "04dd4eae-244f-4bc9-b297-f4c05f31a6f7",
   "metadata": {},
   "outputs": [
    {
     "name": "stdout",
     "output_type": "stream",
     "text": [
      " * sqlite:///ibm_sql.db\n",
      "Done.\n"
     ]
    },
    {
     "data": {
      "text/html": [
       "<table>\n",
       "    <thead>\n",
       "        <tr>\n",
       "            <th>COMMUNITY_AREA_NUMBER</th>\n",
       "            <th>COMMUNITY_AREA_NAME</th>\n",
       "            <th>PERCENT_OF_HOUSING_CROWDED</th>\n",
       "            <th>PERCENT_HOUSEHOLDS_BELOW_POVERTY</th>\n",
       "            <th>PERCENT_AGED_16__UNEMPLOYED</th>\n",
       "            <th>PERCENT_AGED_25__WITHOUT_HIGH_SCHOOL_DIPLOMA</th>\n",
       "            <th>PERCENT_AGED_UNDER_18_OR_OVER_64</th>\n",
       "            <th>PER_CAPITA_INCOME</th>\n",
       "            <th>HARDSHIP_INDEX</th>\n",
       "        </tr>\n",
       "    </thead>\n",
       "    <tbody>\n",
       "        <tr>\n",
       "            <td>1.0</td>\n",
       "            <td>Rogers Park</td>\n",
       "            <td>7.7</td>\n",
       "            <td>23.6</td>\n",
       "            <td>8.7</td>\n",
       "            <td>18.2</td>\n",
       "            <td>27.5</td>\n",
       "            <td>23939</td>\n",
       "            <td>39.0</td>\n",
       "        </tr>\n",
       "    </tbody>\n",
       "</table>"
      ],
      "text/plain": [
       "[(1.0, 'Rogers Park', 7.7, 23.6, 8.7, 18.2, 27.5, 23939, 39.0)]"
      ]
     },
     "execution_count": 22,
     "metadata": {},
     "output_type": "execute_result"
    }
   ],
   "source": [
    "%%sql\n",
    "SELECT * \n",
    "FROM chicago_census_data\n",
    "LIMIT 1;"
   ]
  },
  {
   "cell_type": "code",
   "execution_count": 609,
   "id": "bccfa340-d2ae-4bdb-b113-7b6a36218e41",
   "metadata": {},
   "outputs": [
    {
     "name": "stdout",
     "output_type": "stream",
     "text": [
      " * sqlite:///ibm_sql.db\n",
      "Done.\n"
     ]
    },
    {
     "data": {
      "text/html": [
       "<table>\n",
       "    <thead>\n",
       "        <tr>\n",
       "            <th>COMMUNITY_AREA_NUMBER</th>\n",
       "            <th>COMMUNITY_AREA_NAME</th>\n",
       "            <th>PER_CAPITA_INCOME</th>\n",
       "        </tr>\n",
       "    </thead>\n",
       "    <tbody>\n",
       "        <tr>\n",
       "            <td>54.0</td>\n",
       "            <td>Riverdale</td>\n",
       "            <td>8201</td>\n",
       "        </tr>\n",
       "        <tr>\n",
       "            <td>30.0</td>\n",
       "            <td>South Lawndale</td>\n",
       "            <td>10402</td>\n",
       "        </tr>\n",
       "        <tr>\n",
       "            <td>37.0</td>\n",
       "            <td>Fuller Park</td>\n",
       "            <td>10432</td>\n",
       "        </tr>\n",
       "        <tr>\n",
       "            <td>26.0</td>\n",
       "            <td>West Garfield Park</td>\n",
       "            <td>10934</td>\n",
       "        </tr>\n",
       "    </tbody>\n",
       "</table>"
      ],
      "text/plain": [
       "[(54.0, 'Riverdale', 8201),\n",
       " (30.0, 'South Lawndale', 10402),\n",
       " (37.0, 'Fuller Park', 10432),\n",
       " (26.0, 'West Garfield Park', 10934)]"
      ]
     },
     "execution_count": 609,
     "metadata": {},
     "output_type": "execute_result"
    }
   ],
   "source": [
    "%%sql \n",
    "SELECT COMMUNITY_AREA_NUMBER, COMMUNITY_AREA_NAME, PER_CAPITA_INCOME\n",
    "FROM chicago_census_data\n",
    "WHERE PER_CAPITA_INCOME < 11000\n",
    "ORDER BY PER_CAPITA_INCOME;"
   ]
  },
  {
   "cell_type": "markdown",
   "id": "67b22d01-7a2c-465f-bcc7-6d6664385322",
   "metadata": {},
   "source": [
    "# `Problem 3`\n",
    "#### List all case numbers for crimes involving minors?(children are not considered minors for the purposes of crime analysis) "
   ]
  },
  {
   "cell_type": "code",
   "execution_count": 114,
   "id": "bc6ebd11-6ad3-42b4-8dec-cddda5f6b4e9",
   "metadata": {},
   "outputs": [
    {
     "name": "stdout",
     "output_type": "stream",
     "text": [
      " * sqlite:///ibm_sql.db\n",
      "Done.\n"
     ]
    },
    {
     "data": {
      "text/html": [
       "<table>\n",
       "    <thead>\n",
       "        <tr>\n",
       "            <th>ID</th>\n",
       "            <th>CASE_NUMBER</th>\n",
       "            <th>DATE</th>\n",
       "            <th>BLOCK</th>\n",
       "            <th>IUCR</th>\n",
       "            <th>PRIMARY_TYPE</th>\n",
       "            <th>DESCRIPTION</th>\n",
       "            <th>LOCATION_DESCRIPTION</th>\n",
       "            <th>ARREST</th>\n",
       "            <th>DOMESTIC</th>\n",
       "            <th>BEAT</th>\n",
       "            <th>DISTRICT</th>\n",
       "            <th>WARD</th>\n",
       "            <th>COMMUNITY_AREA_NUMBER</th>\n",
       "            <th>FBICODE</th>\n",
       "            <th>X_COORDINATE</th>\n",
       "            <th>Y_COORDINATE</th>\n",
       "            <th>YEAR</th>\n",
       "            <th>LATITUDE</th>\n",
       "            <th>LONGITUDE</th>\n",
       "            <th>LOCATION</th>\n",
       "        </tr>\n",
       "    </thead>\n",
       "    <tbody>\n",
       "        <tr>\n",
       "            <td>3512276</td>\n",
       "            <td>HK587712</td>\n",
       "            <td>2004-08-28</td>\n",
       "            <td>047XX S KEDZIE AVE</td>\n",
       "            <td>890</td>\n",
       "            <td>THEFT</td>\n",
       "            <td>FROM BUILDING</td>\n",
       "            <td>SMALL RETAIL STORE</td>\n",
       "            <td>0</td>\n",
       "            <td>0</td>\n",
       "            <td>911</td>\n",
       "            <td>9</td>\n",
       "            <td>14.0</td>\n",
       "            <td>58.0</td>\n",
       "            <td>6</td>\n",
       "            <td>1155838.0</td>\n",
       "            <td>1873050.0</td>\n",
       "            <td>2004</td>\n",
       "            <td>41.8074405</td>\n",
       "            <td>-87.70395585</td>\n",
       "            <td>(41.8074405, -87.703955849)</td>\n",
       "        </tr>\n",
       "    </tbody>\n",
       "</table>"
      ],
      "text/plain": [
       "[(3512276, 'HK587712', '2004-08-28', '047XX S KEDZIE AVE', '890', 'THEFT', 'FROM BUILDING', 'SMALL RETAIL STORE', 0, 0, 911, 9, 14.0, 58.0, '6', 1155838.0, 1873050.0, 2004, 41.8074405, -87.70395585, '(41.8074405, -87.703955849)')]"
      ]
     },
     "execution_count": 114,
     "metadata": {},
     "output_type": "execute_result"
    }
   ],
   "source": [
    "%%sql\n",
    "SELECT * \n",
    "FROM chicago_crime_data\n",
    "LIMIT 1;"
   ]
  },
  {
   "cell_type": "code",
   "execution_count": 632,
   "id": "11297972-70d5-4869-9d5f-07333a354424",
   "metadata": {},
   "outputs": [
    {
     "name": "stdout",
     "output_type": "stream",
     "text": [
      " * sqlite:///ibm_sql.db\n",
      "Done.\n"
     ]
    },
    {
     "data": {
      "text/html": [
       "<table>\n",
       "    <thead>\n",
       "        <tr>\n",
       "            <th>PRIMARY_TYPE</th>\n",
       "            <th>DESCRIPTION</th>\n",
       "        </tr>\n",
       "    </thead>\n",
       "    <tbody>\n",
       "        <tr>\n",
       "            <td>THEFT</td>\n",
       "            <td>FROM BUILDING</td>\n",
       "        </tr>\n",
       "        <tr>\n",
       "            <td>THEFT</td>\n",
       "            <td>$500 AND UNDER</td>\n",
       "        </tr>\n",
       "        <tr>\n",
       "            <td>THEFT</td>\n",
       "            <td>FINANCIAL ID THEFT: OVER $300</td>\n",
       "        </tr>\n",
       "        <tr>\n",
       "            <td>THEFT</td>\n",
       "            <td>OVER $500</td>\n",
       "        </tr>\n",
       "        <tr>\n",
       "            <td>THEFT</td>\n",
       "            <td>RETAIL THEFT</td>\n",
       "        </tr>\n",
       "        <tr>\n",
       "            <td>THEFT</td>\n",
       "            <td>AGG: FINANCIAL ID THEFT</td>\n",
       "        </tr>\n",
       "        <tr>\n",
       "            <td>THEFT</td>\n",
       "            <td>PURSE-SNATCHING</td>\n",
       "        </tr>\n",
       "        <tr>\n",
       "            <td>THEFT</td>\n",
       "            <td>POCKET-PICKING</td>\n",
       "        </tr>\n",
       "        <tr>\n",
       "            <td>THEFT</td>\n",
       "            <td>ATTEMPT THEFT</td>\n",
       "        </tr>\n",
       "        <tr>\n",
       "            <td>BATTERY</td>\n",
       "            <td>SIMPLE</td>\n",
       "        </tr>\n",
       "        <tr>\n",
       "            <td>BATTERY</td>\n",
       "            <td>DOMESTIC BATTERY SIMPLE</td>\n",
       "        </tr>\n",
       "        <tr>\n",
       "            <td>BATTERY</td>\n",
       "            <td>AGG PO HANDS NO/MIN INJURY</td>\n",
       "        </tr>\n",
       "        <tr>\n",
       "            <td>BATTERY</td>\n",
       "            <td>PRO EMP HANDS NO/MIN INJURY</td>\n",
       "        </tr>\n",
       "        <tr>\n",
       "            <td>BATTERY</td>\n",
       "            <td>AGGRAVATED:KNIFE/CUTTING INSTR</td>\n",
       "        </tr>\n",
       "        <tr>\n",
       "            <td>BATTERY</td>\n",
       "            <td>AGGRAVATED: OTHER DANG WEAPON</td>\n",
       "        </tr>\n",
       "        <tr>\n",
       "            <td>BATTERY</td>\n",
       "            <td>AGGRAVATED: HANDGUN</td>\n",
       "        </tr>\n",
       "        <tr>\n",
       "            <td>BATTERY</td>\n",
       "            <td>AGGRAVATED DOMESTIC BATTERY</td>\n",
       "        </tr>\n",
       "        <tr>\n",
       "            <td>BATTERY</td>\n",
       "            <td>AGGRAVATED DOMESTIC BATTERY: OTHER DANG WEAPON</td>\n",
       "        </tr>\n",
       "        <tr>\n",
       "            <td>CRIMINAL DAMAGE</td>\n",
       "            <td>TO VEHICLE</td>\n",
       "        </tr>\n",
       "        <tr>\n",
       "            <td>CRIMINAL DAMAGE</td>\n",
       "            <td>TO CITY OF CHICAGO PROPERTY</td>\n",
       "        </tr>\n",
       "        <tr>\n",
       "            <td>CRIMINAL DAMAGE</td>\n",
       "            <td>TO PROPERTY</td>\n",
       "        </tr>\n",
       "        <tr>\n",
       "            <td>CRIMINAL DAMAGE</td>\n",
       "            <td>CRIMINAL DEFACEMENT</td>\n",
       "        </tr>\n",
       "        <tr>\n",
       "            <td>NARCOTICS</td>\n",
       "            <td>POSS: CANNABIS 30GMS OR LESS</td>\n",
       "        </tr>\n",
       "        <tr>\n",
       "            <td>NARCOTICS</td>\n",
       "            <td>POSS: HEROIN(WHITE)</td>\n",
       "        </tr>\n",
       "        <tr>\n",
       "            <td>NARCOTICS</td>\n",
       "            <td>MANU/DEL:CANNABIS 10GM OR LESS</td>\n",
       "        </tr>\n",
       "        <tr>\n",
       "            <td>NARCOTICS</td>\n",
       "            <td>MANU/DELIVER: HEROIN (WHITE)</td>\n",
       "        </tr>\n",
       "        <tr>\n",
       "            <td>NARCOTICS</td>\n",
       "            <td>POSS: CRACK</td>\n",
       "        </tr>\n",
       "        <tr>\n",
       "            <td>NARCOTICS</td>\n",
       "            <td>FOUND SUSPECT NARCOTICS</td>\n",
       "        </tr>\n",
       "        <tr>\n",
       "            <td>NARCOTICS</td>\n",
       "            <td>MANU/DELIVER: METHAMPHETAMINES</td>\n",
       "        </tr>\n",
       "        <tr>\n",
       "            <td>NARCOTICS</td>\n",
       "            <td>POSS: COCAINE</td>\n",
       "        </tr>\n",
       "        <tr>\n",
       "            <td>NARCOTICS</td>\n",
       "            <td>ATTEMPT POSSESSION NARCOTICS</td>\n",
       "        </tr>\n",
       "        <tr>\n",
       "            <td>NARCOTICS</td>\n",
       "            <td>SOLICIT NARCOTICS ON PUBLICWAY</td>\n",
       "        </tr>\n",
       "        <tr>\n",
       "            <td>NARCOTICS</td>\n",
       "            <td>MANU/DELIVER:CRACK</td>\n",
       "        </tr>\n",
       "        <tr>\n",
       "            <td>OTHER OFFENSE</td>\n",
       "            <td>TELEPHONE THREAT</td>\n",
       "        </tr>\n",
       "        <tr>\n",
       "            <td>OTHER OFFENSE</td>\n",
       "            <td>OBSCENE TELEPHONE CALLS</td>\n",
       "        </tr>\n",
       "        <tr>\n",
       "            <td>OTHER OFFENSE</td>\n",
       "            <td>VIOLATE ORDER OF PROTECTION</td>\n",
       "        </tr>\n",
       "        <tr>\n",
       "            <td>OTHER OFFENSE</td>\n",
       "            <td>HARASSMENT BY TELEPHONE</td>\n",
       "        </tr>\n",
       "        <tr>\n",
       "            <td>OTHER OFFENSE</td>\n",
       "            <td>PROBATION VIOLATION</td>\n",
       "        </tr>\n",
       "        <tr>\n",
       "            <td>OTHER OFFENSE</td>\n",
       "            <td>HARASSMENT BY ELECTRONIC MEANS</td>\n",
       "        </tr>\n",
       "        <tr>\n",
       "            <td>OTHER OFFENSE</td>\n",
       "            <td>PAROLE VIOLATION</td>\n",
       "        </tr>\n",
       "        <tr>\n",
       "            <td>OTHER OFFENSE</td>\n",
       "            <td>FALSE/STOLEN/ALTERED TRP</td>\n",
       "        </tr>\n",
       "        <tr>\n",
       "            <td>OTHER OFFENSE</td>\n",
       "            <td>OTHER VEHICLE OFFENSE</td>\n",
       "        </tr>\n",
       "        <tr>\n",
       "            <td>OTHER OFFENSE</td>\n",
       "            <td>OTHER CRIME AGAINST PERSON</td>\n",
       "        </tr>\n",
       "        <tr>\n",
       "            <td>OTHER OFFENSE</td>\n",
       "            <td>SEX OFFENDER: FAIL REG NEW ADD</td>\n",
       "        </tr>\n",
       "        <tr>\n",
       "            <td>ASSAULT</td>\n",
       "            <td>SIMPLE</td>\n",
       "        </tr>\n",
       "        <tr>\n",
       "            <td>ASSAULT</td>\n",
       "            <td>AGGRAVATED: OTHER DANG WEAPON</td>\n",
       "        </tr>\n",
       "        <tr>\n",
       "            <td>ASSAULT</td>\n",
       "            <td>AGGRAVATED: HANDGUN</td>\n",
       "        </tr>\n",
       "        <tr>\n",
       "            <td>ASSAULT</td>\n",
       "            <td>AGGRAVATED PO: OTHER DANG WEAP</td>\n",
       "        </tr>\n",
       "        <tr>\n",
       "            <td>ASSAULT</td>\n",
       "            <td>AGGRAVATED:KNIFE/CUTTING INSTR</td>\n",
       "        </tr>\n",
       "        <tr>\n",
       "            <td>ASSAULT</td>\n",
       "            <td>PRO EMP HANDS NO/MIN INJURY</td>\n",
       "        </tr>\n",
       "        <tr>\n",
       "            <td>BURGLARY</td>\n",
       "            <td>UNLAWFUL ENTRY</td>\n",
       "        </tr>\n",
       "        <tr>\n",
       "            <td>BURGLARY</td>\n",
       "            <td>FORCIBLE ENTRY</td>\n",
       "        </tr>\n",
       "        <tr>\n",
       "            <td>MOTOR VEHICLE THEFT</td>\n",
       "            <td>AUTOMOBILE</td>\n",
       "        </tr>\n",
       "        <tr>\n",
       "            <td>MOTOR VEHICLE THEFT</td>\n",
       "            <td>THEFT/RECOVERY: AUTOMOBILE</td>\n",
       "        </tr>\n",
       "        <tr>\n",
       "            <td>MOTOR VEHICLE THEFT</td>\n",
       "            <td>ATT: AUTOMOBILE</td>\n",
       "        </tr>\n",
       "        <tr>\n",
       "            <td>MOTOR VEHICLE THEFT</td>\n",
       "            <td>TRUCK, BUS, MOTOR HOME</td>\n",
       "        </tr>\n",
       "        <tr>\n",
       "            <td>DECEPTIVE PRACTICE</td>\n",
       "            <td>CREDIT CARD FRAUD</td>\n",
       "        </tr>\n",
       "        <tr>\n",
       "            <td>DECEPTIVE PRACTICE</td>\n",
       "            <td>THEFT OF LABOR/SERVICES</td>\n",
       "        </tr>\n",
       "        <tr>\n",
       "            <td>DECEPTIVE PRACTICE</td>\n",
       "            <td>FORGERY</td>\n",
       "        </tr>\n",
       "        <tr>\n",
       "            <td>DECEPTIVE PRACTICE</td>\n",
       "            <td>THEFT OF LOST/MISLAID PROP</td>\n",
       "        </tr>\n",
       "        <tr>\n",
       "            <td>DECEPTIVE PRACTICE</td>\n",
       "            <td>FRAUD OR CONFIDENCE GAME</td>\n",
       "        </tr>\n",
       "        <tr>\n",
       "            <td>DECEPTIVE PRACTICE</td>\n",
       "            <td>THEFT BY LESSEE,MOTOR VEH</td>\n",
       "        </tr>\n",
       "        <tr>\n",
       "            <td>DECEPTIVE PRACTICE</td>\n",
       "            <td>BOGUS CHECK</td>\n",
       "        </tr>\n",
       "        <tr>\n",
       "            <td>DECEPTIVE PRACTICE</td>\n",
       "            <td>FINANCIAL IDENTITY THEFT OVER $ 300</td>\n",
       "        </tr>\n",
       "        <tr>\n",
       "            <td>DECEPTIVE PRACTICE</td>\n",
       "            <td>ILLEGAL USE CASH CARD</td>\n",
       "        </tr>\n",
       "        <tr>\n",
       "            <td>ROBBERY</td>\n",
       "            <td>ARMED: HANDGUN</td>\n",
       "        </tr>\n",
       "        <tr>\n",
       "            <td>ROBBERY</td>\n",
       "            <td>STRONGARM - NO WEAPON</td>\n",
       "        </tr>\n",
       "        <tr>\n",
       "            <td>ROBBERY</td>\n",
       "            <td>VEHICULAR HIJACKING</td>\n",
       "        </tr>\n",
       "        <tr>\n",
       "            <td>ROBBERY</td>\n",
       "            <td>ARMED:KNIFE/CUTTING INSTRUMENT</td>\n",
       "        </tr>\n",
       "        <tr>\n",
       "            <td>ROBBERY</td>\n",
       "            <td>AGGRAVATED</td>\n",
       "        </tr>\n",
       "        <tr>\n",
       "            <td>ROBBERY</td>\n",
       "            <td>AGGRAVATED VEHICULAR HIJACKING</td>\n",
       "        </tr>\n",
       "        <tr>\n",
       "            <td>CRIMINAL TRESPASS</td>\n",
       "            <td>TO STATE SUP LAND</td>\n",
       "        </tr>\n",
       "        <tr>\n",
       "            <td>CRIMINAL TRESPASS</td>\n",
       "            <td>TO RESIDENCE</td>\n",
       "        </tr>\n",
       "        <tr>\n",
       "            <td>CRIMINAL TRESPASS</td>\n",
       "            <td>TO LAND</td>\n",
       "        </tr>\n",
       "        <tr>\n",
       "            <td>CRIMINAL TRESPASS</td>\n",
       "            <td>TO VEHICLE</td>\n",
       "        </tr>\n",
       "        <tr>\n",
       "            <td>PROSTITUTION</td>\n",
       "            <td>CALL OPERATION</td>\n",
       "        </tr>\n",
       "        <tr>\n",
       "            <td>PROSTITUTION</td>\n",
       "            <td>SOLICIT ON PUBLIC WAY</td>\n",
       "        </tr>\n",
       "        <tr>\n",
       "            <td>PROSTITUTION</td>\n",
       "            <td>SOLICIT FOR BUSINESS</td>\n",
       "        </tr>\n",
       "        <tr>\n",
       "            <td>WEAPONS VIOLATION</td>\n",
       "            <td>UNLAWFUL POSS OF HANDGUN</td>\n",
       "        </tr>\n",
       "        <tr>\n",
       "            <td>WEAPONS VIOLATION</td>\n",
       "            <td>UNLAWFUL POSS OTHER FIREARM</td>\n",
       "        </tr>\n",
       "        <tr>\n",
       "            <td>PUBLIC PEACE VIOLATION</td>\n",
       "            <td>RECKLESS CONDUCT</td>\n",
       "        </tr>\n",
       "        <tr>\n",
       "            <td>PUBLIC PEACE VIOLATION</td>\n",
       "            <td>BOMB THREAT</td>\n",
       "        </tr>\n",
       "        <tr>\n",
       "            <td>OFFENSE INVOLVING CHILDREN</td>\n",
       "            <td>AGG SEX ASSLT OF CHILD FAM MBR</td>\n",
       "        </tr>\n",
       "        <tr>\n",
       "            <td>OFFENSE INVOLVING CHILDREN</td>\n",
       "            <td>SEX ASSLT OF CHILD BY FAM MBR</td>\n",
       "        </tr>\n",
       "        <tr>\n",
       "            <td>OFFENSE INVOLVING CHILDREN</td>\n",
       "            <td>CRIM SEX ABUSE BY FAM MEMBER</td>\n",
       "        </tr>\n",
       "        <tr>\n",
       "            <td>OFFENSE INVOLVING CHILDREN</td>\n",
       "            <td>AGG CRIM SEX ABUSE FAM MEMBER</td>\n",
       "        </tr>\n",
       "        <tr>\n",
       "            <td>CRIM SEXUAL ASSAULT</td>\n",
       "            <td>ATTEMPT NON-AGGRAVATED</td>\n",
       "        </tr>\n",
       "        <tr>\n",
       "            <td>CRIM SEXUAL ASSAULT</td>\n",
       "            <td>NON-AGGRAVATED</td>\n",
       "        </tr>\n",
       "        <tr>\n",
       "            <td>CRIM SEXUAL ASSAULT</td>\n",
       "            <td>AGGRAVATED: HANDGUN</td>\n",
       "        </tr>\n",
       "        <tr>\n",
       "            <td>SEX OFFENSE</td>\n",
       "            <td>AGG CRIMINAL SEXUAL ABUSE</td>\n",
       "        </tr>\n",
       "        <tr>\n",
       "            <td>SEX OFFENSE</td>\n",
       "            <td>OTHER</td>\n",
       "        </tr>\n",
       "        <tr>\n",
       "            <td>INTERFERENCE WITH PUBLIC OFFICER</td>\n",
       "            <td>RESIST/OBSTRUCT/DISARM OFFICER</td>\n",
       "        </tr>\n",
       "        <tr>\n",
       "            <td>INTERFERENCE WITH PUBLIC OFFICER</td>\n",
       "            <td>ESCAPE</td>\n",
       "        </tr>\n",
       "        <tr>\n",
       "            <td>GAMBLING</td>\n",
       "            <td>GAME/DICE</td>\n",
       "        </tr>\n",
       "        <tr>\n",
       "            <td>LIQUOR LAW VIOLATION</td>\n",
       "            <td>SELL/GIVE/DEL LIQUOR TO MINOR</td>\n",
       "        </tr>\n",
       "        <tr>\n",
       "            <td>LIQUOR LAW VIOLATION</td>\n",
       "            <td>ILLEGAL CONSUMPTION BY MINOR</td>\n",
       "        </tr>\n",
       "        <tr>\n",
       "            <td>ARSON</td>\n",
       "            <td>AGGRAVATED</td>\n",
       "        </tr>\n",
       "        <tr>\n",
       "            <td>ARSON</td>\n",
       "            <td>BY FIRE</td>\n",
       "        </tr>\n",
       "        <tr>\n",
       "            <td>HOMICIDE</td>\n",
       "            <td>FIRST DEGREE MURDER</td>\n",
       "        </tr>\n",
       "        <tr>\n",
       "            <td>KIDNAPPING</td>\n",
       "            <td>CHILD ABDUCTION/STRANGER</td>\n",
       "        </tr>\n",
       "        <tr>\n",
       "            <td>INTIMIDATION</td>\n",
       "            <td>INTIMIDATION</td>\n",
       "        </tr>\n",
       "        <tr>\n",
       "            <td>STALKING</td>\n",
       "            <td>CYBERSTALKING</td>\n",
       "        </tr>\n",
       "        <tr>\n",
       "            <td>OBSCENITY</td>\n",
       "            <td>OBSCENE MATTER</td>\n",
       "        </tr>\n",
       "        <tr>\n",
       "            <td>CONCEALED CARRY LICENSE VIOLATION</td>\n",
       "            <td>OTHER</td>\n",
       "        </tr>\n",
       "        <tr>\n",
       "            <td>PUBLIC INDECENCY</td>\n",
       "            <td>LICENSED PREMISE</td>\n",
       "        </tr>\n",
       "        <tr>\n",
       "            <td>NON-CRIMINAL</td>\n",
       "            <td>LOST PASSPORT</td>\n",
       "        </tr>\n",
       "        <tr>\n",
       "            <td>OTHER NARCOTIC VIOLATION</td>\n",
       "            <td>INTOXICATING COMPOUNDS</td>\n",
       "        </tr>\n",
       "        <tr>\n",
       "            <td>HUMAN TRAFFICKING</td>\n",
       "            <td>INVOLUNTARY SERVITUDE</td>\n",
       "        </tr>\n",
       "        <tr>\n",
       "            <td>NON - CRIMINAL</td>\n",
       "            <td>FOID - REVOCATION</td>\n",
       "        </tr>\n",
       "        <tr>\n",
       "            <td>RITUALISM</td>\n",
       "            <td>AGG RIT MUT: HANDS/FIST/FEET SERIOUS INJURY</td>\n",
       "        </tr>\n",
       "        <tr>\n",
       "            <td>NON-CRIMINAL (SUBJECT SPECIFIED)</td>\n",
       "            <td>NOTIFICATION OF CIVIL NO CONTACT ORDER</td>\n",
       "        </tr>\n",
       "        <tr>\n",
       "            <td>DOMESTIC VIOLENCE</td>\n",
       "            <td>DOMESTIC VIOLENCE</td>\n",
       "        </tr>\n",
       "    </tbody>\n",
       "</table>"
      ],
      "text/plain": [
       "[('THEFT', 'FROM BUILDING'),\n",
       " ('THEFT', '$500 AND UNDER'),\n",
       " ('THEFT', 'FINANCIAL ID THEFT: OVER $300'),\n",
       " ('THEFT', 'OVER $500'),\n",
       " ('THEFT', 'RETAIL THEFT'),\n",
       " ('THEFT', 'AGG: FINANCIAL ID THEFT'),\n",
       " ('THEFT', 'PURSE-SNATCHING'),\n",
       " ('THEFT', 'POCKET-PICKING'),\n",
       " ('THEFT', 'ATTEMPT THEFT'),\n",
       " ('BATTERY', 'SIMPLE'),\n",
       " ('BATTERY', 'DOMESTIC BATTERY SIMPLE'),\n",
       " ('BATTERY', 'AGG PO HANDS NO/MIN INJURY'),\n",
       " ('BATTERY', 'PRO EMP HANDS NO/MIN INJURY'),\n",
       " ('BATTERY', 'AGGRAVATED:KNIFE/CUTTING INSTR'),\n",
       " ('BATTERY', 'AGGRAVATED: OTHER DANG WEAPON'),\n",
       " ('BATTERY', 'AGGRAVATED: HANDGUN'),\n",
       " ('BATTERY', 'AGGRAVATED DOMESTIC BATTERY'),\n",
       " ('BATTERY', 'AGGRAVATED DOMESTIC BATTERY: OTHER DANG WEAPON'),\n",
       " ('CRIMINAL DAMAGE', 'TO VEHICLE'),\n",
       " ('CRIMINAL DAMAGE', 'TO CITY OF CHICAGO PROPERTY'),\n",
       " ('CRIMINAL DAMAGE', 'TO PROPERTY'),\n",
       " ('CRIMINAL DAMAGE', 'CRIMINAL DEFACEMENT'),\n",
       " ('NARCOTICS', 'POSS: CANNABIS 30GMS OR LESS'),\n",
       " ('NARCOTICS', 'POSS: HEROIN(WHITE)'),\n",
       " ('NARCOTICS', 'MANU/DEL:CANNABIS 10GM OR LESS'),\n",
       " ('NARCOTICS', 'MANU/DELIVER: HEROIN (WHITE)'),\n",
       " ('NARCOTICS', 'POSS: CRACK'),\n",
       " ('NARCOTICS', 'FOUND SUSPECT NARCOTICS'),\n",
       " ('NARCOTICS', 'MANU/DELIVER: METHAMPHETAMINES'),\n",
       " ('NARCOTICS', 'POSS: COCAINE'),\n",
       " ('NARCOTICS', 'ATTEMPT POSSESSION NARCOTICS'),\n",
       " ('NARCOTICS', 'SOLICIT NARCOTICS ON PUBLICWAY'),\n",
       " ('NARCOTICS', 'MANU/DELIVER:CRACK'),\n",
       " ('OTHER OFFENSE', 'TELEPHONE THREAT'),\n",
       " ('OTHER OFFENSE', 'OBSCENE TELEPHONE CALLS'),\n",
       " ('OTHER OFFENSE', 'VIOLATE ORDER OF PROTECTION'),\n",
       " ('OTHER OFFENSE', 'HARASSMENT BY TELEPHONE'),\n",
       " ('OTHER OFFENSE', 'PROBATION VIOLATION'),\n",
       " ('OTHER OFFENSE', 'HARASSMENT BY ELECTRONIC MEANS'),\n",
       " ('OTHER OFFENSE', 'PAROLE VIOLATION'),\n",
       " ('OTHER OFFENSE', 'FALSE/STOLEN/ALTERED TRP'),\n",
       " ('OTHER OFFENSE', 'OTHER VEHICLE OFFENSE'),\n",
       " ('OTHER OFFENSE', 'OTHER CRIME AGAINST PERSON'),\n",
       " ('OTHER OFFENSE', 'SEX OFFENDER: FAIL REG NEW ADD'),\n",
       " ('ASSAULT', 'SIMPLE'),\n",
       " ('ASSAULT', 'AGGRAVATED: OTHER DANG WEAPON'),\n",
       " ('ASSAULT', 'AGGRAVATED: HANDGUN'),\n",
       " ('ASSAULT', 'AGGRAVATED PO: OTHER DANG WEAP'),\n",
       " ('ASSAULT', 'AGGRAVATED:KNIFE/CUTTING INSTR'),\n",
       " ('ASSAULT', 'PRO EMP HANDS NO/MIN INJURY'),\n",
       " ('BURGLARY', 'UNLAWFUL ENTRY'),\n",
       " ('BURGLARY', 'FORCIBLE ENTRY'),\n",
       " ('MOTOR VEHICLE THEFT', 'AUTOMOBILE'),\n",
       " ('MOTOR VEHICLE THEFT', 'THEFT/RECOVERY: AUTOMOBILE'),\n",
       " ('MOTOR VEHICLE THEFT', 'ATT: AUTOMOBILE'),\n",
       " ('MOTOR VEHICLE THEFT', 'TRUCK, BUS, MOTOR HOME'),\n",
       " ('DECEPTIVE PRACTICE', 'CREDIT CARD FRAUD'),\n",
       " ('DECEPTIVE PRACTICE', 'THEFT OF LABOR/SERVICES'),\n",
       " ('DECEPTIVE PRACTICE', 'FORGERY'),\n",
       " ('DECEPTIVE PRACTICE', 'THEFT OF LOST/MISLAID PROP'),\n",
       " ('DECEPTIVE PRACTICE', 'FRAUD OR CONFIDENCE GAME'),\n",
       " ('DECEPTIVE PRACTICE', 'THEFT BY LESSEE,MOTOR VEH'),\n",
       " ('DECEPTIVE PRACTICE', 'BOGUS CHECK'),\n",
       " ('DECEPTIVE PRACTICE', 'FINANCIAL IDENTITY THEFT OVER $ 300'),\n",
       " ('DECEPTIVE PRACTICE', 'ILLEGAL USE CASH CARD'),\n",
       " ('ROBBERY', 'ARMED: HANDGUN'),\n",
       " ('ROBBERY', 'STRONGARM - NO WEAPON'),\n",
       " ('ROBBERY', 'VEHICULAR HIJACKING'),\n",
       " ('ROBBERY', 'ARMED:KNIFE/CUTTING INSTRUMENT'),\n",
       " ('ROBBERY', 'AGGRAVATED'),\n",
       " ('ROBBERY', 'AGGRAVATED VEHICULAR HIJACKING'),\n",
       " ('CRIMINAL TRESPASS', 'TO STATE SUP LAND'),\n",
       " ('CRIMINAL TRESPASS', 'TO RESIDENCE'),\n",
       " ('CRIMINAL TRESPASS', 'TO LAND'),\n",
       " ('CRIMINAL TRESPASS', 'TO VEHICLE'),\n",
       " ('PROSTITUTION', 'CALL OPERATION'),\n",
       " ('PROSTITUTION', 'SOLICIT ON PUBLIC WAY'),\n",
       " ('PROSTITUTION', 'SOLICIT FOR BUSINESS'),\n",
       " ('WEAPONS VIOLATION', 'UNLAWFUL POSS OF HANDGUN'),\n",
       " ('WEAPONS VIOLATION', 'UNLAWFUL POSS OTHER FIREARM'),\n",
       " ('PUBLIC PEACE VIOLATION', 'RECKLESS CONDUCT'),\n",
       " ('PUBLIC PEACE VIOLATION', 'BOMB THREAT'),\n",
       " ('OFFENSE INVOLVING CHILDREN', 'AGG SEX ASSLT OF CHILD FAM MBR'),\n",
       " ('OFFENSE INVOLVING CHILDREN', 'SEX ASSLT OF CHILD BY FAM MBR'),\n",
       " ('OFFENSE INVOLVING CHILDREN', 'CRIM SEX ABUSE BY FAM MEMBER'),\n",
       " ('OFFENSE INVOLVING CHILDREN', 'AGG CRIM SEX ABUSE FAM MEMBER'),\n",
       " ('CRIM SEXUAL ASSAULT', 'ATTEMPT NON-AGGRAVATED'),\n",
       " ('CRIM SEXUAL ASSAULT', 'NON-AGGRAVATED'),\n",
       " ('CRIM SEXUAL ASSAULT', 'AGGRAVATED: HANDGUN'),\n",
       " ('SEX OFFENSE', 'AGG CRIMINAL SEXUAL ABUSE'),\n",
       " ('SEX OFFENSE', 'OTHER'),\n",
       " ('INTERFERENCE WITH PUBLIC OFFICER', 'RESIST/OBSTRUCT/DISARM OFFICER'),\n",
       " ('INTERFERENCE WITH PUBLIC OFFICER', 'ESCAPE'),\n",
       " ('GAMBLING', 'GAME/DICE'),\n",
       " ('LIQUOR LAW VIOLATION', 'SELL/GIVE/DEL LIQUOR TO MINOR'),\n",
       " ('LIQUOR LAW VIOLATION', 'ILLEGAL CONSUMPTION BY MINOR'),\n",
       " ('ARSON', 'AGGRAVATED'),\n",
       " ('ARSON', 'BY FIRE'),\n",
       " ('HOMICIDE', 'FIRST DEGREE MURDER'),\n",
       " ('KIDNAPPING', 'CHILD ABDUCTION/STRANGER'),\n",
       " ('INTIMIDATION', 'INTIMIDATION'),\n",
       " ('STALKING', 'CYBERSTALKING'),\n",
       " ('OBSCENITY', 'OBSCENE MATTER'),\n",
       " ('CONCEALED CARRY LICENSE VIOLATION', 'OTHER'),\n",
       " ('PUBLIC INDECENCY', 'LICENSED PREMISE'),\n",
       " ('NON-CRIMINAL', 'LOST PASSPORT'),\n",
       " ('OTHER NARCOTIC VIOLATION', 'INTOXICATING COMPOUNDS'),\n",
       " ('HUMAN TRAFFICKING', 'INVOLUNTARY SERVITUDE'),\n",
       " ('NON - CRIMINAL', 'FOID - REVOCATION'),\n",
       " ('RITUALISM', 'AGG RIT MUT: HANDS/FIST/FEET SERIOUS INJURY'),\n",
       " ('NON-CRIMINAL (SUBJECT SPECIFIED)', 'NOTIFICATION OF CIVIL NO CONTACT ORDER'),\n",
       " ('DOMESTIC VIOLENCE', 'DOMESTIC VIOLENCE')]"
      ]
     },
     "execution_count": 632,
     "metadata": {},
     "output_type": "execute_result"
    }
   ],
   "source": [
    "%%sql\n",
    "SELECT DISTINCT PRIMARY_TYPE, DESCRIPTION\n",
    "FROM chicago_crime_data;"
   ]
  },
  {
   "cell_type": "code",
   "execution_count": 124,
   "id": "66edea0b-b838-4e16-b6e9-8420df4af18e",
   "metadata": {},
   "outputs": [
    {
     "name": "stdout",
     "output_type": "stream",
     "text": [
      " * sqlite:///ibm_sql.db\n",
      "Done.\n"
     ]
    },
    {
     "data": {
      "text/html": [
       "<table>\n",
       "    <thead>\n",
       "        <tr>\n",
       "            <th>CASE_NUMBER</th>\n",
       "            <th>PRIMARY_TYPE</th>\n",
       "            <th>DESCRIPTION</th>\n",
       "        </tr>\n",
       "    </thead>\n",
       "    <tbody>\n",
       "        <tr>\n",
       "            <td>HL266884</td>\n",
       "            <td>LIQUOR LAW VIOLATION</td>\n",
       "            <td>SELL/GIVE/DEL LIQUOR TO MINOR</td>\n",
       "        </tr>\n",
       "        <tr>\n",
       "            <td>HK238408</td>\n",
       "            <td>LIQUOR LAW VIOLATION</td>\n",
       "            <td>ILLEGAL CONSUMPTION BY MINOR</td>\n",
       "        </tr>\n",
       "    </tbody>\n",
       "</table>"
      ],
      "text/plain": [
       "[('HL266884', 'LIQUOR LAW VIOLATION', 'SELL/GIVE/DEL LIQUOR TO MINOR'),\n",
       " ('HK238408', 'LIQUOR LAW VIOLATION', 'ILLEGAL CONSUMPTION BY MINOR')]"
      ]
     },
     "execution_count": 124,
     "metadata": {},
     "output_type": "execute_result"
    }
   ],
   "source": [
    "%%sql\n",
    "SELECT CASE_NUMBER, PRIMARY_TYPE, DESCRIPTION \n",
    "FROM chicago_crime_data\n",
    "WHERE DESCRIPTION LIKE '%minor%';"
   ]
  },
  {
   "cell_type": "markdown",
   "id": "ffbca28b-3ffe-413c-b3b1-0d77cdcb4eef",
   "metadata": {},
   "source": [
    "# `Problem 4`\n",
    "#### List all kidnapping crimes involving a child?"
   ]
  },
  {
   "cell_type": "code",
   "execution_count": 129,
   "id": "f2a5cb26-8ea1-481c-a553-a62251c6d1e0",
   "metadata": {},
   "outputs": [
    {
     "name": "stdout",
     "output_type": "stream",
     "text": [
      " * sqlite:///ibm_sql.db\n",
      "Done.\n"
     ]
    },
    {
     "data": {
      "text/html": [
       "<table>\n",
       "    <thead>\n",
       "        <tr>\n",
       "            <th>ID</th>\n",
       "            <th>CASE_NUMBER</th>\n",
       "            <th>DATE</th>\n",
       "            <th>BLOCK</th>\n",
       "            <th>IUCR</th>\n",
       "            <th>PRIMARY_TYPE</th>\n",
       "            <th>DESCRIPTION</th>\n",
       "            <th>LOCATION_DESCRIPTION</th>\n",
       "            <th>ARREST</th>\n",
       "            <th>DOMESTIC</th>\n",
       "            <th>BEAT</th>\n",
       "            <th>DISTRICT</th>\n",
       "            <th>WARD</th>\n",
       "            <th>COMMUNITY_AREA_NUMBER</th>\n",
       "            <th>FBICODE</th>\n",
       "            <th>X_COORDINATE</th>\n",
       "            <th>Y_COORDINATE</th>\n",
       "            <th>YEAR</th>\n",
       "            <th>LATITUDE</th>\n",
       "            <th>LONGITUDE</th>\n",
       "            <th>LOCATION</th>\n",
       "        </tr>\n",
       "    </thead>\n",
       "    <tbody>\n",
       "        <tr>\n",
       "            <td>5276766</td>\n",
       "            <td>HN144152</td>\n",
       "            <td>2007-01-26</td>\n",
       "            <td>050XX W VAN BUREN ST</td>\n",
       "            <td>1792</td>\n",
       "            <td>KIDNAPPING</td>\n",
       "            <td>CHILD ABDUCTION/STRANGER</td>\n",
       "            <td>STREET</td>\n",
       "            <td>0</td>\n",
       "            <td>0</td>\n",
       "            <td>1533</td>\n",
       "            <td>15</td>\n",
       "            <td>29.0</td>\n",
       "            <td>25.0</td>\n",
       "            <td>20</td>\n",
       "            <td>1143050.0</td>\n",
       "            <td>1897546.0</td>\n",
       "            <td>2007</td>\n",
       "            <td>41.87490841</td>\n",
       "            <td>-87.75024931</td>\n",
       "            <td>(41.874908413, -87.750249307)</td>\n",
       "        </tr>\n",
       "    </tbody>\n",
       "</table>"
      ],
      "text/plain": [
       "[(5276766, 'HN144152', '2007-01-26', '050XX W VAN BUREN ST', '1792', 'KIDNAPPING', 'CHILD ABDUCTION/STRANGER', 'STREET', 0, 0, 1533, 15, 29.0, 25.0, '20', 1143050.0, 1897546.0, 2007, 41.87490841, -87.75024931, '(41.874908413, -87.750249307)')]"
      ]
     },
     "execution_count": 129,
     "metadata": {},
     "output_type": "execute_result"
    }
   ],
   "source": [
    "%%sql\n",
    "SELECT *\n",
    "FROM chicago_crime_data\n",
    "WHERE PRIMARY_TYPE LIKE '%kidnapping%' AND DESCRIPTION LIKE '%child%';"
   ]
  },
  {
   "cell_type": "markdown",
   "id": "ff7d9c90-ce09-49a4-87bd-09e4fc5f0728",
   "metadata": {},
   "source": [
    "# `Problem 5`\n",
    "#### List the kind of crimes that were recorded at schools. (No repetitions)"
   ]
  },
  {
   "cell_type": "code",
   "execution_count": 613,
   "id": "c6d47ddf-f9cf-419e-a849-bbc6b9ecef6a",
   "metadata": {},
   "outputs": [
    {
     "name": "stdout",
     "output_type": "stream",
     "text": [
      " * sqlite:///ibm_sql.db\n",
      "Done.\n"
     ]
    },
    {
     "data": {
      "text/html": [
       "<table>\n",
       "    <thead>\n",
       "        <tr>\n",
       "            <th>TYPE_OF_CRIME</th>\n",
       "        </tr>\n",
       "    </thead>\n",
       "    <tbody>\n",
       "        <tr>\n",
       "            <td>BATTERY</td>\n",
       "        </tr>\n",
       "        <tr>\n",
       "            <td>CRIMINAL DAMAGE</td>\n",
       "        </tr>\n",
       "        <tr>\n",
       "            <td>NARCOTICS</td>\n",
       "        </tr>\n",
       "        <tr>\n",
       "            <td>ASSAULT</td>\n",
       "        </tr>\n",
       "        <tr>\n",
       "            <td>CRIMINAL TRESPASS</td>\n",
       "        </tr>\n",
       "        <tr>\n",
       "            <td>PUBLIC PEACE VIOLATION</td>\n",
       "        </tr>\n",
       "    </tbody>\n",
       "</table>"
      ],
      "text/plain": [
       "[('BATTERY',),\n",
       " ('CRIMINAL DAMAGE',),\n",
       " ('NARCOTICS',),\n",
       " ('ASSAULT',),\n",
       " ('CRIMINAL TRESPASS',),\n",
       " ('PUBLIC PEACE VIOLATION',)]"
      ]
     },
     "execution_count": 613,
     "metadata": {},
     "output_type": "execute_result"
    }
   ],
   "source": [
    "%%sql\n",
    "SELECT DISTINCT PRIMARY_TYPE AS TYPE_OF_CRIME\n",
    "FROM chicago_crime_data\n",
    "WHERE LOCATION_DESCRIPTION LIKE '%school%';"
   ]
  },
  {
   "cell_type": "markdown",
   "id": "4844c7b0-56af-446e-807a-57973ac3d300",
   "metadata": {},
   "source": [
    "# `Problem 6`\n",
    "#### List the type of schools along with the average safety score for each type."
   ]
  },
  {
   "cell_type": "code",
   "execution_count": 155,
   "id": "bc0bea8c-d517-49f9-b50d-84c8c980850c",
   "metadata": {
    "scrolled": true
   },
   "outputs": [
    {
     "data": {
      "text/plain": [
       "Index(['School_ID', 'NAME_OF_SCHOOL', 'Elementary, Middle, or High School',\n",
       "       'Street_Address', 'City', 'State', 'ZIP_Code', 'Phone_Number', 'Link',\n",
       "       'Network_Manager', 'Collaborative_Name',\n",
       "       'Adequate_Yearly_Progress_Made_', 'Track_Schedule',\n",
       "       'CPS_Performance_Policy_Status', 'CPS_Performance_Policy_Level',\n",
       "       'HEALTHY_SCHOOL_CERTIFIED', 'Safety_Icon', 'SAFETY_SCORE',\n",
       "       'Family_Involvement_Icon', 'Family_Involvement_Score',\n",
       "       'Environment_Icon', 'Environment_Score', 'Instruction_Icon',\n",
       "       'Instruction_Score', 'Leaders_Icon', 'Leaders_Score', 'Teachers_Icon',\n",
       "       'Teachers_Score', 'Parent_Engagement_Icon', 'Parent_Engagement_Score',\n",
       "       'Parent_Environment_Icon', 'Parent_Environment_Score',\n",
       "       'AVERAGE_STUDENT_ATTENDANCE', 'Rate_of_Misconducts__per_100_students_',\n",
       "       'Average_Teacher_Attendance',\n",
       "       'Individualized_Education_Program_Compliance_Rate', 'Pk_2_Literacy__',\n",
       "       'Pk_2_Math__', 'Gr3_5_Grade_Level_Math__', 'Gr3_5_Grade_Level_Read__',\n",
       "       'Gr3_5_Keep_Pace_Read__', 'Gr3_5_Keep_Pace_Math__',\n",
       "       'Gr6_8_Grade_Level_Math__', 'Gr6_8_Grade_Level_Read__',\n",
       "       'Gr6_8_Keep_Pace_Math_', 'Gr6_8_Keep_Pace_Read__',\n",
       "       'Gr_8_Explore_Math__', 'Gr_8_Explore_Read__', 'ISAT_Exceeding_Math__',\n",
       "       'ISAT_Exceeding_Reading__', 'ISAT_Value_Add_Math',\n",
       "       'ISAT_Value_Add_Read', 'ISAT_Value_Add_Color_Math',\n",
       "       'ISAT_Value_Add_Color_Read', 'Students_Taking__Algebra__',\n",
       "       'Students_Passing__Algebra__', '9th Grade EXPLORE (2009)',\n",
       "       '9th Grade EXPLORE (2010)', '10th Grade PLAN (2009)',\n",
       "       '10th Grade PLAN (2010)', 'Net_Change_EXPLORE_and_PLAN',\n",
       "       '11th Grade Average ACT (2011)', 'Net_Change_PLAN_and_ACT',\n",
       "       'College_Eligibility__', 'Graduation_Rate__',\n",
       "       'College_Enrollment_Rate__', 'COLLEGE_ENROLLMENT',\n",
       "       'General_Services_Route', 'Freshman_on_Track_Rate__', 'X_COORDINATE',\n",
       "       'Y_COORDINATE', 'Latitude', 'Longitude', 'COMMUNITY_AREA_NUMBER',\n",
       "       'COMMUNITY_AREA_NAME', 'Ward', 'Police_District', 'Location'],\n",
       "      dtype='object')"
      ]
     },
     "execution_count": 155,
     "metadata": {},
     "output_type": "execute_result"
    }
   ],
   "source": [
    "chicago_public_schools.columns"
   ]
  },
  {
   "cell_type": "code",
   "execution_count": 634,
   "id": "f654a7d1-ca10-43ee-bd18-2dcc2c64d043",
   "metadata": {},
   "outputs": [
    {
     "name": "stdout",
     "output_type": "stream",
     "text": [
      " * sqlite:///ibm_sql.db\n",
      "Done.\n"
     ]
    },
    {
     "data": {
      "text/html": [
       "<table>\n",
       "    <thead>\n",
       "        <tr>\n",
       "            <th>School_ID</th>\n",
       "            <th>NAME_OF_SCHOOL</th>\n",
       "            <th>Elementary, Middle, or High School</th>\n",
       "            <th>Street_Address</th>\n",
       "            <th>City</th>\n",
       "            <th>State</th>\n",
       "            <th>ZIP_Code</th>\n",
       "            <th>Phone_Number</th>\n",
       "            <th>Link</th>\n",
       "            <th>Network_Manager</th>\n",
       "            <th>Collaborative_Name</th>\n",
       "            <th>Adequate_Yearly_Progress_Made_</th>\n",
       "            <th>Track_Schedule</th>\n",
       "            <th>CPS_Performance_Policy_Status</th>\n",
       "            <th>CPS_Performance_Policy_Level</th>\n",
       "            <th>HEALTHY_SCHOOL_CERTIFIED</th>\n",
       "            <th>Safety_Icon</th>\n",
       "            <th>SAFETY_SCORE</th>\n",
       "            <th>Family_Involvement_Icon</th>\n",
       "            <th>Family_Involvement_Score</th>\n",
       "            <th>Environment_Icon</th>\n",
       "            <th>Environment_Score</th>\n",
       "            <th>Instruction_Icon</th>\n",
       "            <th>Instruction_Score</th>\n",
       "            <th>Leaders_Icon</th>\n",
       "            <th>Leaders_Score</th>\n",
       "            <th>Teachers_Icon</th>\n",
       "            <th>Teachers_Score</th>\n",
       "            <th>Parent_Engagement_Icon</th>\n",
       "            <th>Parent_Engagement_Score</th>\n",
       "            <th>Parent_Environment_Icon</th>\n",
       "            <th>Parent_Environment_Score</th>\n",
       "            <th>AVERAGE_STUDENT_ATTENDANCE</th>\n",
       "            <th>Rate_of_Misconducts__per_100_students_</th>\n",
       "            <th>Average_Teacher_Attendance</th>\n",
       "            <th>Individualized_Education_Program_Compliance_Rate</th>\n",
       "            <th>Pk_2_Literacy__</th>\n",
       "            <th>Pk_2_Math__</th>\n",
       "            <th>Gr3_5_Grade_Level_Math__</th>\n",
       "            <th>Gr3_5_Grade_Level_Read__</th>\n",
       "            <th>Gr3_5_Keep_Pace_Read__</th>\n",
       "            <th>Gr3_5_Keep_Pace_Math__</th>\n",
       "            <th>Gr6_8_Grade_Level_Math__</th>\n",
       "            <th>Gr6_8_Grade_Level_Read__</th>\n",
       "            <th>Gr6_8_Keep_Pace_Math_</th>\n",
       "            <th>Gr6_8_Keep_Pace_Read__</th>\n",
       "            <th>Gr_8_Explore_Math__</th>\n",
       "            <th>Gr_8_Explore_Read__</th>\n",
       "            <th>ISAT_Exceeding_Math__</th>\n",
       "            <th>ISAT_Exceeding_Reading__</th>\n",
       "            <th>ISAT_Value_Add_Math</th>\n",
       "            <th>ISAT_Value_Add_Read</th>\n",
       "            <th>ISAT_Value_Add_Color_Math</th>\n",
       "            <th>ISAT_Value_Add_Color_Read</th>\n",
       "            <th>Students_Taking__Algebra__</th>\n",
       "            <th>Students_Passing__Algebra__</th>\n",
       "            <th>9th Grade EXPLORE (2009)</th>\n",
       "            <th>9th Grade EXPLORE (2010)</th>\n",
       "            <th>10th Grade PLAN (2009)</th>\n",
       "            <th>10th Grade PLAN (2010)</th>\n",
       "            <th>Net_Change_EXPLORE_and_PLAN</th>\n",
       "            <th>11th Grade Average ACT (2011)</th>\n",
       "            <th>Net_Change_PLAN_and_ACT</th>\n",
       "            <th>College_Eligibility__</th>\n",
       "            <th>Graduation_Rate__</th>\n",
       "            <th>College_Enrollment_Rate__</th>\n",
       "            <th>COLLEGE_ENROLLMENT</th>\n",
       "            <th>General_Services_Route</th>\n",
       "            <th>Freshman_on_Track_Rate__</th>\n",
       "            <th>X_COORDINATE</th>\n",
       "            <th>Y_COORDINATE</th>\n",
       "            <th>Latitude</th>\n",
       "            <th>Longitude</th>\n",
       "            <th>COMMUNITY_AREA_NUMBER</th>\n",
       "            <th>COMMUNITY_AREA_NAME</th>\n",
       "            <th>Ward</th>\n",
       "            <th>Police_District</th>\n",
       "            <th>Location</th>\n",
       "        </tr>\n",
       "    </thead>\n",
       "    <tbody>\n",
       "        <tr>\n",
       "            <td>610038</td>\n",
       "            <td>Abraham Lincoln Elementary School</td>\n",
       "            <td>ES</td>\n",
       "            <td>615 W Kemper Pl</td>\n",
       "            <td>Chicago</td>\n",
       "            <td>IL</td>\n",
       "            <td>60614</td>\n",
       "            <td>(773) 534-5720</td>\n",
       "            <td>http://schoolreports.cps.edu/SchoolProgressReport_Eng/Spring2011Eng_610038.pdf</td>\n",
       "            <td>Fullerton Elementary Network</td>\n",
       "            <td>NORTH-NORTHWEST SIDE COLLABORATIVE</td>\n",
       "            <td>No</td>\n",
       "            <td>Standard</td>\n",
       "            <td>Not on Probation</td>\n",
       "            <td>Level 1</td>\n",
       "            <td>Yes</td>\n",
       "            <td>Very Strong</td>\n",
       "            <td>99.0</td>\n",
       "            <td>Very Strong</td>\n",
       "            <td>99</td>\n",
       "            <td>Strong</td>\n",
       "            <td>74.0</td>\n",
       "            <td>Strong</td>\n",
       "            <td>66.0</td>\n",
       "            <td>Weak</td>\n",
       "            <td>65</td>\n",
       "            <td>Strong</td>\n",
       "            <td>70</td>\n",
       "            <td>Strong</td>\n",
       "            <td>56</td>\n",
       "            <td>Average</td>\n",
       "            <td>47</td>\n",
       "            <td>96.00%</td>\n",
       "            <td>2.0</td>\n",
       "            <td>96.40%</td>\n",
       "            <td>95.80%</td>\n",
       "            <td>80.1</td>\n",
       "            <td>43.3</td>\n",
       "            <td>89.6</td>\n",
       "            <td>84.9</td>\n",
       "            <td>60.7</td>\n",
       "            <td>62.6</td>\n",
       "            <td>81.9</td>\n",
       "            <td>85.2</td>\n",
       "            <td>52</td>\n",
       "            <td>62.4</td>\n",
       "            <td>66.3</td>\n",
       "            <td>77.9</td>\n",
       "            <td>69.7</td>\n",
       "            <td>64.4</td>\n",
       "            <td>0.2</td>\n",
       "            <td>0.9</td>\n",
       "            <td>Yellow</td>\n",
       "            <td>Green</td>\n",
       "            <td>67.1</td>\n",
       "            <td>54.5</td>\n",
       "            <td>NDA</td>\n",
       "            <td>NDA</td>\n",
       "            <td>NDA</td>\n",
       "            <td>NDA</td>\n",
       "            <td>NDA</td>\n",
       "            <td>NDA</td>\n",
       "            <td>NDA</td>\n",
       "            <td>NDA</td>\n",
       "            <td>NDA</td>\n",
       "            <td>NDA</td>\n",
       "            <td>813</td>\n",
       "            <td>33</td>\n",
       "            <td>NDA</td>\n",
       "            <td>1171699.458</td>\n",
       "            <td>1915829.428</td>\n",
       "            <td>41.92449696</td>\n",
       "            <td>-87.64452163</td>\n",
       "            <td>7</td>\n",
       "            <td>LINCOLN PARK</td>\n",
       "            <td>43</td>\n",
       "            <td>18</td>\n",
       "            <td>(41.92449696, -87.64452163)</td>\n",
       "        </tr>\n",
       "    </tbody>\n",
       "</table>"
      ],
      "text/plain": [
       "[(610038, 'Abraham Lincoln Elementary School', 'ES', '615 W Kemper Pl', 'Chicago', 'IL', 60614, '(773) 534-5720', 'http://schoolreports.cps.edu/SchoolProgressReport_Eng/Spring2011Eng_610038.pdf', 'Fullerton Elementary Network', 'NORTH-NORTHWEST SIDE COLLABORATIVE', 'No', 'Standard', 'Not on Probation', 'Level 1', 'Yes', 'Very Strong', 99.0, 'Very Strong', '99', 'Strong', 74.0, 'Strong', 66.0, 'Weak', '65', 'Strong', '70', 'Strong', '56', 'Average', '47', '96.00%', 2.0, '96.40%', '95.80%', '80.1', '43.3', '89.6', '84.9', '60.7', '62.6', '81.9', '85.2', '52', '62.4', '66.3', '77.9', 69.7, 64.4, 0.2, 0.9, 'Yellow', 'Green', '67.1', '54.5', 'NDA', 'NDA', 'NDA', 'NDA', 'NDA', 'NDA', 'NDA', 'NDA', 'NDA', 'NDA', 813, 33, 'NDA', 1171699.458, 1915829.428, 41.92449696, -87.64452163, 7, 'LINCOLN PARK', 43, 18, '(41.92449696, -87.64452163)')]"
      ]
     },
     "execution_count": 634,
     "metadata": {},
     "output_type": "execute_result"
    }
   ],
   "source": [
    "%%sql\n",
    "SELECT *\n",
    "FROM chicago_public_schools\n",
    "LIMIT 1;"
   ]
  },
  {
   "cell_type": "code",
   "execution_count": 187,
   "id": "2333503d-ed7b-4abf-9b4f-0eb7329c13c1",
   "metadata": {},
   "outputs": [
    {
     "name": "stdout",
     "output_type": "stream",
     "text": [
      " * sqlite:///ibm_sql.db\n",
      "Done.\n"
     ]
    },
    {
     "data": {
      "text/html": [
       "<table>\n",
       "    <thead>\n",
       "        <tr>\n",
       "            <th>TYPE_OF_SCHOOL</th>\n",
       "            <th>AVERAGE_SAFETY_SCORE</th>\n",
       "        </tr>\n",
       "    </thead>\n",
       "    <tbody>\n",
       "        <tr>\n",
       "            <td>ES</td>\n",
       "            <td>49.52038369304557</td>\n",
       "        </tr>\n",
       "        <tr>\n",
       "            <td>HS</td>\n",
       "            <td>49.62352941176471</td>\n",
       "        </tr>\n",
       "        <tr>\n",
       "            <td>MS</td>\n",
       "            <td>48.0</td>\n",
       "        </tr>\n",
       "    </tbody>\n",
       "</table>"
      ],
      "text/plain": [
       "[('ES', 49.52038369304557), ('HS', 49.62352941176471), ('MS', 48.0)]"
      ]
     },
     "execution_count": 187,
     "metadata": {},
     "output_type": "execute_result"
    }
   ],
   "source": [
    "%%sql\n",
    "SELECT \"Elementary, Middle, or High School\" AS TYPE_OF_SCHOOL, AVG(SAFETY_SCORE) AS AVERAGE_SAFETY_SCORE\n",
    "FROM chicago_public_schools\n",
    "GROUP BY \"Elementary, Middle, or High School\";"
   ]
  },
  {
   "cell_type": "markdown",
   "id": "618b3de3-3311-4f05-92f2-6a53be2256f2",
   "metadata": {},
   "source": [
    "# `Problem 7`\n",
    "#### List 5 community areas with highest % of households below poverty line"
   ]
  },
  {
   "cell_type": "code",
   "execution_count": 192,
   "id": "0efbfa7c-279b-464d-95ad-278ad7e69294",
   "metadata": {},
   "outputs": [
    {
     "name": "stdout",
     "output_type": "stream",
     "text": [
      " * sqlite:///ibm_sql.db\n",
      "Done.\n"
     ]
    },
    {
     "data": {
      "text/html": [
       "<table>\n",
       "    <thead>\n",
       "        <tr>\n",
       "            <th>COMMUNITY_AREA_NUMBER</th>\n",
       "            <th>COMMUNITY_AREA_NAME</th>\n",
       "            <th>PERCENT_OF_HOUSING_CROWDED</th>\n",
       "            <th>PERCENT_HOUSEHOLDS_BELOW_POVERTY</th>\n",
       "            <th>PERCENT_AGED_16__UNEMPLOYED</th>\n",
       "            <th>PERCENT_AGED_25__WITHOUT_HIGH_SCHOOL_DIPLOMA</th>\n",
       "            <th>PERCENT_AGED_UNDER_18_OR_OVER_64</th>\n",
       "            <th>PER_CAPITA_INCOME</th>\n",
       "            <th>HARDSHIP_INDEX</th>\n",
       "        </tr>\n",
       "    </thead>\n",
       "    <tbody>\n",
       "        <tr>\n",
       "            <td>1.0</td>\n",
       "            <td>Rogers Park</td>\n",
       "            <td>7.7</td>\n",
       "            <td>23.6</td>\n",
       "            <td>8.7</td>\n",
       "            <td>18.2</td>\n",
       "            <td>27.5</td>\n",
       "            <td>23939</td>\n",
       "            <td>39.0</td>\n",
       "        </tr>\n",
       "    </tbody>\n",
       "</table>"
      ],
      "text/plain": [
       "[(1.0, 'Rogers Park', 7.7, 23.6, 8.7, 18.2, 27.5, 23939, 39.0)]"
      ]
     },
     "execution_count": 192,
     "metadata": {},
     "output_type": "execute_result"
    }
   ],
   "source": [
    "%%sql\n",
    "SELECT * \n",
    "FROM chicago_census_data\n",
    "LIMIT 1;"
   ]
  },
  {
   "cell_type": "code",
   "execution_count": 196,
   "id": "f09d03a2-b189-48d3-a1e7-aaf5450f8294",
   "metadata": {},
   "outputs": [
    {
     "name": "stdout",
     "output_type": "stream",
     "text": [
      " * sqlite:///ibm_sql.db\n",
      "Done.\n"
     ]
    },
    {
     "data": {
      "text/html": [
       "<table>\n",
       "    <thead>\n",
       "        <tr>\n",
       "            <th>COMMUNITY_AREA_NUMBER</th>\n",
       "            <th>COMMUNITY_AREA_NAME</th>\n",
       "            <th>PERCENT_HOUSEHOLDS_BELOW_POVERTY</th>\n",
       "            <th>PER_CAPITA_INCOME</th>\n",
       "        </tr>\n",
       "    </thead>\n",
       "    <tbody>\n",
       "        <tr>\n",
       "            <td>54.0</td>\n",
       "            <td>Riverdale</td>\n",
       "            <td>56.5</td>\n",
       "            <td>8201</td>\n",
       "        </tr>\n",
       "        <tr>\n",
       "            <td>37.0</td>\n",
       "            <td>Fuller Park</td>\n",
       "            <td>51.2</td>\n",
       "            <td>10432</td>\n",
       "        </tr>\n",
       "        <tr>\n",
       "            <td>68.0</td>\n",
       "            <td>Englewood</td>\n",
       "            <td>46.6</td>\n",
       "            <td>11888</td>\n",
       "        </tr>\n",
       "        <tr>\n",
       "            <td>29.0</td>\n",
       "            <td>North Lawndale</td>\n",
       "            <td>43.1</td>\n",
       "            <td>12034</td>\n",
       "        </tr>\n",
       "        <tr>\n",
       "            <td>27.0</td>\n",
       "            <td>East Garfield Park</td>\n",
       "            <td>42.4</td>\n",
       "            <td>12961</td>\n",
       "        </tr>\n",
       "    </tbody>\n",
       "</table>"
      ],
      "text/plain": [
       "[(54.0, 'Riverdale', 56.5, 8201),\n",
       " (37.0, 'Fuller Park', 51.2, 10432),\n",
       " (68.0, 'Englewood', 46.6, 11888),\n",
       " (29.0, 'North Lawndale', 43.1, 12034),\n",
       " (27.0, 'East Garfield Park', 42.4, 12961)]"
      ]
     },
     "execution_count": 196,
     "metadata": {},
     "output_type": "execute_result"
    }
   ],
   "source": [
    "%%sql\n",
    "SELECT COMMUNITY_AREA_NUMBER, COMMUNITY_AREA_NAME, PERCENT_HOUSEHOLDS_BELOW_POVERTY, PER_CAPITA_INCOME\n",
    "FROM chicago_census_data\n",
    "ORDER BY PERCENT_HOUSEHOLDS_BELOW_POVERTY DESC\n",
    "LIMIT 5;"
   ]
  },
  {
   "cell_type": "markdown",
   "id": "2ac21b7f-fc8d-418f-af79-7400df13caa5",
   "metadata": {},
   "source": [
    "# `Problem 8`\n",
    "#### Which community area is most crime prone? Display the coumminty area number only."
   ]
  },
  {
   "cell_type": "code",
   "execution_count": 199,
   "id": "3b786a88-e2ac-4def-b094-7242c7c7fd50",
   "metadata": {},
   "outputs": [
    {
     "name": "stdout",
     "output_type": "stream",
     "text": [
      " * sqlite:///ibm_sql.db\n",
      "Done.\n"
     ]
    },
    {
     "data": {
      "text/html": [
       "<table>\n",
       "    <thead>\n",
       "        <tr>\n",
       "            <th>ID</th>\n",
       "            <th>CASE_NUMBER</th>\n",
       "            <th>DATE</th>\n",
       "            <th>BLOCK</th>\n",
       "            <th>IUCR</th>\n",
       "            <th>PRIMARY_TYPE</th>\n",
       "            <th>DESCRIPTION</th>\n",
       "            <th>LOCATION_DESCRIPTION</th>\n",
       "            <th>ARREST</th>\n",
       "            <th>DOMESTIC</th>\n",
       "            <th>BEAT</th>\n",
       "            <th>DISTRICT</th>\n",
       "            <th>WARD</th>\n",
       "            <th>COMMUNITY_AREA_NUMBER</th>\n",
       "            <th>FBICODE</th>\n",
       "            <th>X_COORDINATE</th>\n",
       "            <th>Y_COORDINATE</th>\n",
       "            <th>YEAR</th>\n",
       "            <th>LATITUDE</th>\n",
       "            <th>LONGITUDE</th>\n",
       "            <th>LOCATION</th>\n",
       "        </tr>\n",
       "    </thead>\n",
       "    <tbody>\n",
       "        <tr>\n",
       "            <td>3512276</td>\n",
       "            <td>HK587712</td>\n",
       "            <td>2004-08-28</td>\n",
       "            <td>047XX S KEDZIE AVE</td>\n",
       "            <td>890</td>\n",
       "            <td>THEFT</td>\n",
       "            <td>FROM BUILDING</td>\n",
       "            <td>SMALL RETAIL STORE</td>\n",
       "            <td>0</td>\n",
       "            <td>0</td>\n",
       "            <td>911</td>\n",
       "            <td>9</td>\n",
       "            <td>14.0</td>\n",
       "            <td>58.0</td>\n",
       "            <td>6</td>\n",
       "            <td>1155838.0</td>\n",
       "            <td>1873050.0</td>\n",
       "            <td>2004</td>\n",
       "            <td>41.8074405</td>\n",
       "            <td>-87.70395585</td>\n",
       "            <td>(41.8074405, -87.703955849)</td>\n",
       "        </tr>\n",
       "    </tbody>\n",
       "</table>"
      ],
      "text/plain": [
       "[(3512276, 'HK587712', '2004-08-28', '047XX S KEDZIE AVE', '890', 'THEFT', 'FROM BUILDING', 'SMALL RETAIL STORE', 0, 0, 911, 9, 14.0, 58.0, '6', 1155838.0, 1873050.0, 2004, 41.8074405, -87.70395585, '(41.8074405, -87.703955849)')]"
      ]
     },
     "execution_count": 199,
     "metadata": {},
     "output_type": "execute_result"
    }
   ],
   "source": [
    "%%sql\n",
    "SELECT * \n",
    "FROM chicago_crime_data\n",
    "LIMIT 1;"
   ]
  },
  {
   "cell_type": "code",
   "execution_count": 203,
   "id": "b3031dd2-912b-4f96-a5c4-0f475f82d27a",
   "metadata": {},
   "outputs": [
    {
     "name": "stdout",
     "output_type": "stream",
     "text": [
      " * sqlite:///ibm_sql.db\n",
      "Done.\n"
     ]
    },
    {
     "data": {
      "text/html": [
       "<table>\n",
       "    <thead>\n",
       "        <tr>\n",
       "            <th>COMMUNITY_AREA_NUMBER</th>\n",
       "        </tr>\n",
       "    </thead>\n",
       "    <tbody>\n",
       "        <tr>\n",
       "            <td>25.0</td>\n",
       "        </tr>\n",
       "    </tbody>\n",
       "</table>"
      ],
      "text/plain": [
       "[(25.0,)]"
      ]
     },
     "execution_count": 203,
     "metadata": {},
     "output_type": "execute_result"
    }
   ],
   "source": [
    "%%sql\n",
    "SELECT COMMUNITY_AREA_NUMBER\n",
    "FROM chicago_crime_data\n",
    "GROUP BY COMMUNITY_AREA_NUMBER\n",
    "ORDER BY COUNT(COMMUNITY_AREA_NUMBER) DESC\n",
    "LIMIT 1;"
   ]
  },
  {
   "cell_type": "markdown",
   "id": "c3085fc2-c725-4fb3-9541-369db0a7d051",
   "metadata": {},
   "source": [
    "# `Problem 9`\n",
    "#### Use a sub-query to find the name of the community area with highest hardship index"
   ]
  },
  {
   "cell_type": "code",
   "execution_count": 206,
   "id": "d8ab559c-2bb8-423c-9be6-7e6b0b03d702",
   "metadata": {},
   "outputs": [
    {
     "data": {
      "text/plain": [
       "Index(['COMMUNITY_AREA_NUMBER', 'COMMUNITY_AREA_NAME',\n",
       "       'PERCENT_OF_HOUSING_CROWDED', 'PERCENT_HOUSEHOLDS_BELOW_POVERTY',\n",
       "       'PERCENT_AGED_16__UNEMPLOYED',\n",
       "       'PERCENT_AGED_25__WITHOUT_HIGH_SCHOOL_DIPLOMA',\n",
       "       'PERCENT_AGED_UNDER_18_OR_OVER_64', 'PER_CAPITA_INCOME',\n",
       "       'HARDSHIP_INDEX'],\n",
       "      dtype='object')"
      ]
     },
     "execution_count": 206,
     "metadata": {},
     "output_type": "execute_result"
    }
   ],
   "source": [
    "chicago_census_data.columns"
   ]
  },
  {
   "cell_type": "code",
   "execution_count": 218,
   "id": "7a5afecf-4dc4-4f8b-a01f-5320244d4801",
   "metadata": {},
   "outputs": [
    {
     "name": "stdout",
     "output_type": "stream",
     "text": [
      " * sqlite:///ibm_sql.db\n",
      "Done.\n"
     ]
    },
    {
     "data": {
      "text/html": [
       "<table>\n",
       "    <thead>\n",
       "        <tr>\n",
       "            <th>COMMUNITY_AREA_NAME</th>\n",
       "            <th>HARDSHIP_INDEX</th>\n",
       "        </tr>\n",
       "    </thead>\n",
       "    <tbody>\n",
       "        <tr>\n",
       "            <td>Riverdale</td>\n",
       "            <td>98.0</td>\n",
       "        </tr>\n",
       "    </tbody>\n",
       "</table>"
      ],
      "text/plain": [
       "[('Riverdale', 98.0)]"
      ]
     },
     "execution_count": 218,
     "metadata": {},
     "output_type": "execute_result"
    }
   ],
   "source": [
    "%%sql\n",
    "SELECT COMMUNITY_AREA_NAME, HARDSHIP_INDEX\n",
    "FROM chicago_census_data\n",
    "WHERE COMMUNITY_AREA_NUMBER IN (SELECT COMMUNITY_AREA_NUMBER FROM chicago_census_data ORDER BY HARDSHIP_INDEX DESC LIMIT 1);"
   ]
  },
  {
   "cell_type": "markdown",
   "id": "bf3787b7-7fce-4315-8019-cb4b1a6d4a59",
   "metadata": {},
   "source": [
    "The following is another way of doing it i.e. without using sub query,"
   ]
  },
  {
   "cell_type": "code",
   "execution_count": 232,
   "id": "7268474c-f7a4-4f8d-b401-391175df3ce3",
   "metadata": {},
   "outputs": [
    {
     "name": "stdout",
     "output_type": "stream",
     "text": [
      " * sqlite:///ibm_sql.db\n",
      "Done.\n"
     ]
    },
    {
     "data": {
      "text/html": [
       "<table>\n",
       "    <thead>\n",
       "        <tr>\n",
       "            <th>COMMUNITY_AREA_NAME</th>\n",
       "            <th>HARDSHIP_INDEX</th>\n",
       "        </tr>\n",
       "    </thead>\n",
       "    <tbody>\n",
       "        <tr>\n",
       "            <td>Riverdale</td>\n",
       "            <td>98.0</td>\n",
       "        </tr>\n",
       "    </tbody>\n",
       "</table>"
      ],
      "text/plain": [
       "[('Riverdale', 98.0)]"
      ]
     },
     "execution_count": 232,
     "metadata": {},
     "output_type": "execute_result"
    }
   ],
   "source": [
    "%%sql\n",
    "SELECT COMMUNITY_AREA_NAME, HARDSHIP_INDEX\n",
    "FROM chicago_census_data\n",
    "ORDER BY HARDSHIP_INDEX DESC\n",
    "LIMIT 1;"
   ]
  },
  {
   "cell_type": "markdown",
   "id": "0ab44f5a-490d-4270-94ca-db290c087fb8",
   "metadata": {},
   "source": [
    "# `Problem 10`\n",
    "#### Use a sub-query to determine the Community Area Name with most number of crimes?"
   ]
  },
  {
   "cell_type": "code",
   "execution_count": 239,
   "id": "3c30ce10-d708-4db4-a413-14ddf5ea96db",
   "metadata": {},
   "outputs": [
    {
     "name": "stdout",
     "output_type": "stream",
     "text": [
      " * sqlite:///ibm_sql.db\n",
      "Done.\n"
     ]
    },
    {
     "data": {
      "text/html": [
       "<table>\n",
       "    <thead>\n",
       "        <tr>\n",
       "            <th>COMMUNITY_AREA_NUMBER</th>\n",
       "            <th>COMMUNITY_AREA_NAME</th>\n",
       "            <th>PERCENT_OF_HOUSING_CROWDED</th>\n",
       "            <th>PERCENT_HOUSEHOLDS_BELOW_POVERTY</th>\n",
       "            <th>PERCENT_AGED_16__UNEMPLOYED</th>\n",
       "            <th>PERCENT_AGED_25__WITHOUT_HIGH_SCHOOL_DIPLOMA</th>\n",
       "            <th>PERCENT_AGED_UNDER_18_OR_OVER_64</th>\n",
       "            <th>PER_CAPITA_INCOME</th>\n",
       "            <th>HARDSHIP_INDEX</th>\n",
       "        </tr>\n",
       "    </thead>\n",
       "    <tbody>\n",
       "        <tr>\n",
       "            <td>1.0</td>\n",
       "            <td>Rogers Park</td>\n",
       "            <td>7.7</td>\n",
       "            <td>23.6</td>\n",
       "            <td>8.7</td>\n",
       "            <td>18.2</td>\n",
       "            <td>27.5</td>\n",
       "            <td>23939</td>\n",
       "            <td>39.0</td>\n",
       "        </tr>\n",
       "    </tbody>\n",
       "</table>"
      ],
      "text/plain": [
       "[(1.0, 'Rogers Park', 7.7, 23.6, 8.7, 18.2, 27.5, 23939, 39.0)]"
      ]
     },
     "execution_count": 239,
     "metadata": {},
     "output_type": "execute_result"
    }
   ],
   "source": [
    "%sql SELECT * FROM chicago_census_data LIMIT 1;"
   ]
  },
  {
   "cell_type": "code",
   "execution_count": 241,
   "id": "32dad18e-b679-4255-8d9a-fac0670f1cd0",
   "metadata": {},
   "outputs": [
    {
     "name": "stdout",
     "output_type": "stream",
     "text": [
      " * sqlite:///ibm_sql.db\n",
      "Done.\n"
     ]
    },
    {
     "data": {
      "text/html": [
       "<table>\n",
       "    <thead>\n",
       "        <tr>\n",
       "            <th>ID</th>\n",
       "            <th>CASE_NUMBER</th>\n",
       "            <th>DATE</th>\n",
       "            <th>BLOCK</th>\n",
       "            <th>IUCR</th>\n",
       "            <th>PRIMARY_TYPE</th>\n",
       "            <th>DESCRIPTION</th>\n",
       "            <th>LOCATION_DESCRIPTION</th>\n",
       "            <th>ARREST</th>\n",
       "            <th>DOMESTIC</th>\n",
       "            <th>BEAT</th>\n",
       "            <th>DISTRICT</th>\n",
       "            <th>WARD</th>\n",
       "            <th>COMMUNITY_AREA_NUMBER</th>\n",
       "            <th>FBICODE</th>\n",
       "            <th>X_COORDINATE</th>\n",
       "            <th>Y_COORDINATE</th>\n",
       "            <th>YEAR</th>\n",
       "            <th>LATITUDE</th>\n",
       "            <th>LONGITUDE</th>\n",
       "            <th>LOCATION</th>\n",
       "        </tr>\n",
       "    </thead>\n",
       "    <tbody>\n",
       "        <tr>\n",
       "            <td>3512276</td>\n",
       "            <td>HK587712</td>\n",
       "            <td>2004-08-28</td>\n",
       "            <td>047XX S KEDZIE AVE</td>\n",
       "            <td>890</td>\n",
       "            <td>THEFT</td>\n",
       "            <td>FROM BUILDING</td>\n",
       "            <td>SMALL RETAIL STORE</td>\n",
       "            <td>0</td>\n",
       "            <td>0</td>\n",
       "            <td>911</td>\n",
       "            <td>9</td>\n",
       "            <td>14.0</td>\n",
       "            <td>58.0</td>\n",
       "            <td>6</td>\n",
       "            <td>1155838.0</td>\n",
       "            <td>1873050.0</td>\n",
       "            <td>2004</td>\n",
       "            <td>41.8074405</td>\n",
       "            <td>-87.70395585</td>\n",
       "            <td>(41.8074405, -87.703955849)</td>\n",
       "        </tr>\n",
       "    </tbody>\n",
       "</table>"
      ],
      "text/plain": [
       "[(3512276, 'HK587712', '2004-08-28', '047XX S KEDZIE AVE', '890', 'THEFT', 'FROM BUILDING', 'SMALL RETAIL STORE', 0, 0, 911, 9, 14.0, 58.0, '6', 1155838.0, 1873050.0, 2004, 41.8074405, -87.70395585, '(41.8074405, -87.703955849)')]"
      ]
     },
     "execution_count": 241,
     "metadata": {},
     "output_type": "execute_result"
    }
   ],
   "source": [
    "%sql SELECT * FROM chicago_crime_data LIMIT 1;"
   ]
  },
  {
   "cell_type": "code",
   "execution_count": 245,
   "id": "a5446bda-ef89-4e1b-af2e-34266b51155a",
   "metadata": {},
   "outputs": [
    {
     "name": "stdout",
     "output_type": "stream",
     "text": [
      " * sqlite:///ibm_sql.db\n",
      "Done.\n"
     ]
    },
    {
     "data": {
      "text/html": [
       "<table>\n",
       "    <thead>\n",
       "        <tr>\n",
       "            <th>COMMUNITY_AREA_NAME</th>\n",
       "        </tr>\n",
       "    </thead>\n",
       "    <tbody>\n",
       "        <tr>\n",
       "            <td>Austin</td>\n",
       "        </tr>\n",
       "    </tbody>\n",
       "</table>"
      ],
      "text/plain": [
       "[('Austin',)]"
      ]
     },
     "execution_count": 245,
     "metadata": {},
     "output_type": "execute_result"
    }
   ],
   "source": [
    "%%sql\n",
    "SELECT COMMUNITY_AREA_NAME\n",
    "FROM chicago_census_data\n",
    "WHERE COMMUNITY_AREA_NUMBER IN (SELECT COMMUNITY_AREA_NUMBER FROM chicago_crime_data GROUP BY COMMUNITY_AREA_NUMBER ORDER BY COUNT(COMMUNITY_AREA_NUMBER) DESC LIMIT 1);"
   ]
  },
  {
   "cell_type": "code",
   "execution_count": null,
   "id": "915b1412-9b32-49e4-b861-db1c68748c55",
   "metadata": {},
   "outputs": [],
   "source": []
  },
  {
   "cell_type": "markdown",
   "id": "4aa80208-0dab-47f1-9f02-624973162409",
   "metadata": {},
   "source": [
    "# **Visualizations**"
   ]
  },
  {
   "cell_type": "markdown",
   "id": "7e5b1d22-8058-4435-9279-4d47e8031dec",
   "metadata": {},
   "source": [
    "# `1. Our objective is to Identify the most common crime types.`\n",
    "####  For this we will use barplot from seaborn to know how many times each kind of crime has happened."
   ]
  },
  {
   "cell_type": "code",
   "execution_count": 636,
   "id": "5acc7d68-a431-49f9-b292-f42ddc4be8fe",
   "metadata": {},
   "outputs": [
    {
     "name": "stdout",
     "output_type": "stream",
     "text": [
      " * sqlite:///ibm_sql.db\n",
      "Done.\n"
     ]
    },
    {
     "data": {
      "text/html": [
       "<table>\n",
       "    <thead>\n",
       "        <tr>\n",
       "            <th>ID</th>\n",
       "            <th>CASE_NUMBER</th>\n",
       "            <th>DATE</th>\n",
       "            <th>BLOCK</th>\n",
       "            <th>IUCR</th>\n",
       "            <th>PRIMARY_TYPE</th>\n",
       "            <th>DESCRIPTION</th>\n",
       "            <th>LOCATION_DESCRIPTION</th>\n",
       "            <th>ARREST</th>\n",
       "            <th>DOMESTIC</th>\n",
       "            <th>BEAT</th>\n",
       "            <th>DISTRICT</th>\n",
       "            <th>WARD</th>\n",
       "            <th>COMMUNITY_AREA_NUMBER</th>\n",
       "            <th>FBICODE</th>\n",
       "            <th>X_COORDINATE</th>\n",
       "            <th>Y_COORDINATE</th>\n",
       "            <th>YEAR</th>\n",
       "            <th>LATITUDE</th>\n",
       "            <th>LONGITUDE</th>\n",
       "            <th>LOCATION</th>\n",
       "        </tr>\n",
       "    </thead>\n",
       "    <tbody>\n",
       "        <tr>\n",
       "            <td>3512276</td>\n",
       "            <td>HK587712</td>\n",
       "            <td>2004-08-28</td>\n",
       "            <td>047XX S KEDZIE AVE</td>\n",
       "            <td>890</td>\n",
       "            <td>THEFT</td>\n",
       "            <td>FROM BUILDING</td>\n",
       "            <td>SMALL RETAIL STORE</td>\n",
       "            <td>0</td>\n",
       "            <td>0</td>\n",
       "            <td>911</td>\n",
       "            <td>9</td>\n",
       "            <td>14.0</td>\n",
       "            <td>58.0</td>\n",
       "            <td>6</td>\n",
       "            <td>1155838.0</td>\n",
       "            <td>1873050.0</td>\n",
       "            <td>2004</td>\n",
       "            <td>41.8074405</td>\n",
       "            <td>-87.70395585</td>\n",
       "            <td>(41.8074405, -87.703955849)</td>\n",
       "        </tr>\n",
       "    </tbody>\n",
       "</table>"
      ],
      "text/plain": [
       "[(3512276, 'HK587712', '2004-08-28', '047XX S KEDZIE AVE', '890', 'THEFT', 'FROM BUILDING', 'SMALL RETAIL STORE', 0, 0, 911, 9, 14.0, 58.0, '6', 1155838.0, 1873050.0, 2004, 41.8074405, -87.70395585, '(41.8074405, -87.703955849)')]"
      ]
     },
     "execution_count": 636,
     "metadata": {},
     "output_type": "execute_result"
    }
   ],
   "source": [
    "%sql SELECT * FROM chicago_crime_data LIMIT 1;"
   ]
  },
  {
   "cell_type": "code",
   "execution_count": 642,
   "id": "cad5ab33-8c40-4fe2-b17d-696665333700",
   "metadata": {},
   "outputs": [
    {
     "name": "stdout",
     "output_type": "stream",
     "text": [
      " * sqlite:///ibm_sql.db\n",
      "Done.\n",
      "Returning data to local variable crime_type\n"
     ]
    }
   ],
   "source": [
    "%%sql crime_type <<\n",
    "SELECT DISTINCT PRIMARY_TYPE AS CRIME_TYPE, COUNT(PRIMARY_TYPE) AS NUMBER_OF_TIMES\n",
    "FROM chicago_crime_data\n",
    "GROUP BY PRIMARY_TYPE;"
   ]
  },
  {
   "cell_type": "code",
   "execution_count": 644,
   "id": "2f3dae0b-0895-43af-af69-52e1de21d6a2",
   "metadata": {},
   "outputs": [],
   "source": [
    "crime_type_df = crime_type.DataFrame()"
   ]
  },
  {
   "cell_type": "code",
   "execution_count": 646,
   "id": "e465e28e-9786-48da-a47b-a403781269fc",
   "metadata": {},
   "outputs": [
    {
     "data": {
      "image/png": "[encoded data removed]",
      "text/plain": [
       "<Figure size 1500x600 with 1 Axes>"
      ]
     },
     "metadata": {},
     "output_type": "display_data"
    }
   ],
   "source": [
    "plt.figure(figsize=(15,6))\n",
    "sb.barplot(x='CRIME_TYPE', y='NUMBER_OF_TIMES', data=crime_type_df, hue='CRIME_TYPE', palette='bright', saturation=1)\n",
    "plt.xticks(rotation=90, ha='center')\n",
    "plt.title('Types of Crimes and their Count', size=20)\n",
    "plt.xlabel('Crime Type', size=18)\n",
    "plt.ylabel('Count', size=18)\n",
    "plt.show()"
   ]
  },
  {
   "cell_type": "markdown",
   "id": "f372a976-d35b-437c-9775-6b9a2a00303f",
   "metadata": {},
   "source": [
    "## **Findings:**\n",
    "#### We've found that, of all crime types, **`theft`** happened the most number of times followed by **`battery`** and **`criminal damage`** and so on."
   ]
  },
  {
   "cell_type": "markdown",
   "id": "610bbd27-d413-477f-a2ac-06209c9a8594",
   "metadata": {},
   "source": [
    "### In the above plot, we visualized the frequency of each crime type, which gave us a clear understanding of the most and least common crimes. Now, we want to focus specifically on the top 10 most frequent crime types, excluding the less common ones."
   ]
  },
  {
   "cell_type": "markdown",
   "id": "91048aaf-83bc-4600-8c1c-bf1aea2d846f",
   "metadata": {},
   "source": [
    "## `2. Now our Objective is to explicitly find out only the top 10 most common crime types.`"
   ]
  },
  {
   "cell_type": "code",
   "execution_count": 152,
   "id": "b27b94fe-8155-4978-a935-e35083c4a945",
   "metadata": {},
   "outputs": [],
   "source": [
    "# Renaming the column name in the 'crime_type_df' dataframe.\n",
    "crime_type_df.rename(columns={'NUMBER_OF_TIMES':'COUNT'}, inplace=True)"
   ]
  },
  {
   "cell_type": "code",
   "execution_count": 160,
   "id": "49986fa3-737c-4626-a5bd-7fa1dffc38ad",
   "metadata": {},
   "outputs": [],
   "source": [
    "# Sorting 'crime_type_df' dataframe based on 'count' column in descending order.\n",
    "ordered_crime_df = crime_type_df.sort_values(by='COUNT', ascending=False)"
   ]
  },
  {
   "cell_type": "code",
   "execution_count": 166,
   "id": "41b70180-574c-4298-bf37-3b416eb66b98",
   "metadata": {},
   "outputs": [],
   "source": [
    "# Reseting the index of the sorted dataframe.\n",
    "ordered_crime_df.reset_index(inplace=True)"
   ]
  },
  {
   "cell_type": "code",
   "execution_count": 176,
   "id": "e4c204f7-ca9a-430e-ad98-705f874bee37",
   "metadata": {},
   "outputs": [],
   "source": [
    "# Deleting the separate index column from the dataframe.\n",
    "ordered_crime_df.drop(columns=['index'], inplace=True)"
   ]
  },
  {
   "cell_type": "code",
   "execution_count": 186,
   "id": "4788e7d6-9402-4645-939b-cf4263c0fdd2",
   "metadata": {},
   "outputs": [],
   "source": [
    "# Creating a new dataframe which contains the first 10 entries from the sorted dataframe i.e. top 10 crime types.\n",
    "top_10_crimes = ordered_crime_df.head(10)"
   ]
  },
  {
   "cell_type": "code",
   "execution_count": 188,
   "id": "19a12d1b-4ece-4ec1-917e-74da31b305d5",
   "metadata": {},
   "outputs": [
    {
     "data": {
      "text/html": [
       "<div>\n",
       "<style scoped>\n",
       "    .dataframe tbody tr th:only-of-type {\n",
       "        vertical-align: middle;\n",
       "    }\n",
       "\n",
       "    .dataframe tbody tr th {\n",
       "        vertical-align: top;\n",
       "    }\n",
       "\n",
       "    .dataframe thead th {\n",
       "        text-align: right;\n",
       "    }\n",
       "</style>\n",
       "<table border=\"1\" class=\"dataframe\">\n",
       "  <thead>\n",
       "    <tr style=\"text-align: right;\">\n",
       "      <th></th>\n",
       "      <th>CRIME_TYPE</th>\n",
       "      <th>COUNT</th>\n",
       "    </tr>\n",
       "  </thead>\n",
       "  <tbody>\n",
       "    <tr>\n",
       "      <th>0</th>\n",
       "      <td>THEFT</td>\n",
       "      <td>106</td>\n",
       "    </tr>\n",
       "    <tr>\n",
       "      <th>1</th>\n",
       "      <td>BATTERY</td>\n",
       "      <td>92</td>\n",
       "    </tr>\n",
       "    <tr>\n",
       "      <th>2</th>\n",
       "      <td>CRIMINAL DAMAGE</td>\n",
       "      <td>58</td>\n",
       "    </tr>\n",
       "    <tr>\n",
       "      <th>3</th>\n",
       "      <td>NARCOTICS</td>\n",
       "      <td>54</td>\n",
       "    </tr>\n",
       "    <tr>\n",
       "      <th>4</th>\n",
       "      <td>ASSAULT</td>\n",
       "      <td>32</td>\n",
       "    </tr>\n",
       "    <tr>\n",
       "      <th>5</th>\n",
       "      <td>OTHER OFFENSE</td>\n",
       "      <td>32</td>\n",
       "    </tr>\n",
       "    <tr>\n",
       "      <th>6</th>\n",
       "      <td>BURGLARY</td>\n",
       "      <td>30</td>\n",
       "    </tr>\n",
       "    <tr>\n",
       "      <th>7</th>\n",
       "      <td>MOTOR VEHICLE THEFT</td>\n",
       "      <td>24</td>\n",
       "    </tr>\n",
       "    <tr>\n",
       "      <th>8</th>\n",
       "      <td>ROBBERY</td>\n",
       "      <td>20</td>\n",
       "    </tr>\n",
       "    <tr>\n",
       "      <th>9</th>\n",
       "      <td>DECEPTIVE PRACTICE</td>\n",
       "      <td>20</td>\n",
       "    </tr>\n",
       "  </tbody>\n",
       "</table>\n",
       "</div>"
      ],
      "text/plain": [
       "            CRIME_TYPE  COUNT\n",
       "0                THEFT    106\n",
       "1              BATTERY     92\n",
       "2      CRIMINAL DAMAGE     58\n",
       "3            NARCOTICS     54\n",
       "4              ASSAULT     32\n",
       "5        OTHER OFFENSE     32\n",
       "6             BURGLARY     30\n",
       "7  MOTOR VEHICLE THEFT     24\n",
       "8              ROBBERY     20\n",
       "9   DECEPTIVE PRACTICE     20"
      ]
     },
     "execution_count": 188,
     "metadata": {},
     "output_type": "execute_result"
    }
   ],
   "source": [
    "top_10_crimes"
   ]
  },
  {
   "cell_type": "code",
   "execution_count": 689,
   "id": "04a4d008-8329-4fab-9497-431e76f5f148",
   "metadata": {},
   "outputs": [
    {
     "name": "stderr",
     "output_type": "stream",
     "text": [
      "C:\\Users\\HI\\AppData\\Local\\Temp\\ipykernel_6404\\2394080849.py:2: FutureWarning: \n",
      "\n",
      "Passing `palette` without assigning `hue` is deprecated and will be removed in v0.14.0. Assign the `x` variable to `hue` and set `legend=False` for the same effect.\n",
      "\n",
      "  sb.barplot(x='CRIME_TYPE', y='COUNT', data = top_10_crimes, palette='Purples_r')\n"
     ]
    },
    {
     "data": {
      "image/png": "[encoded data removed]",
      "text/plain": [
       "<Figure size 1300x600 with 1 Axes>"
      ]
     },
     "metadata": {},
     "output_type": "display_data"
    }
   ],
   "source": [
    "plt.figure(figsize=(13,6))\n",
    "sb.barplot(x='CRIME_TYPE', y='COUNT', data = top_10_crimes, palette='Purples_r')  \n",
    "plt.xticks(rotation=30, ha='right')\n",
    "plt.title('Top 10 Crime Types With Count', size=20)\n",
    "plt.xlabel('Crime Type', size=16)\n",
    "plt.ylabel('Count', size=16)\n",
    "plt.show()"
   ]
  },
  {
   "cell_type": "markdown",
   "id": "1129a1e7-5a03-42de-adce-1c93cd822072",
   "metadata": {},
   "source": [
    "## **Findings:**\n",
    "#### The plot highlights the top 10 most common crime types, which are `Theft`, `Battery`, `Criminal Damage`, `Narcotics`, `Assault`, `Other Offense`, `Burglary`, `Motor Vehicle Theft`, `Robbery`, and `Deceptive Practice`. These findings provide valuable insights into the dominant crime patterns in the dataset, with `theft leading the list`, followed by violent crimes like battery and assault."
   ]
  },
  {
   "cell_type": "markdown",
   "id": "18bf8707-45e4-45b0-a50d-7ed97f42c0c5",
   "metadata": {},
   "source": [
    "### Next, we want to identify the locations where crimes occured and analyze the different types of crimes that happened at each location."
   ]
  },
  {
   "cell_type": "markdown",
   "id": "e872ef3c-3035-4ef4-832b-82aecfdcff2c",
   "metadata": {},
   "source": [
    "## `3. Our Objective now is to determine the locations where crimes are most frequently committed and analyze the types of crimes that occur at each location.`"
   ]
  },
  {
   "cell_type": "code",
   "execution_count": 275,
   "id": "97ad9858-6e0e-4820-bf88-1f8a0b051e3c",
   "metadata": {},
   "outputs": [
    {
     "data": {
      "text/plain": [
       "Index(['ID', 'CASE_NUMBER', 'DATE', 'BLOCK', 'IUCR', 'PRIMARY_TYPE',\n",
       "       'DESCRIPTION', 'LOCATION_DESCRIPTION', 'ARREST', 'DOMESTIC', 'BEAT',\n",
       "       'DISTRICT', 'WARD', 'COMMUNITY_AREA_NUMBER', 'FBICODE', 'X_COORDINATE',\n",
       "       'Y_COORDINATE', 'YEAR', 'LATITUDE', 'LONGITUDE', 'LOCATION'],\n",
       "      dtype='object')"
      ]
     },
     "execution_count": 275,
     "metadata": {},
     "output_type": "execute_result"
    }
   ],
   "source": [
    "chicago_crime_data.columns"
   ]
  },
  {
   "cell_type": "code",
   "execution_count": 391,
   "id": "6ddc574f-c111-4c5b-982d-0c7b6760a87c",
   "metadata": {},
   "outputs": [
    {
     "name": "stdout",
     "output_type": "stream",
     "text": [
      " * sqlite:///ibm_sql.db\n",
      "Done.\n",
      "Returning data to local variable crime_locations\n"
     ]
    }
   ],
   "source": [
    "%%sql crime_locations <<\n",
    "SELECT DISTINCT LOCATION_DESCRIPTION AS LOCATION, COUNT(LOCATION_DESCRIPTION) AS COUNT, PRIMARY_TYPE \n",
    "FROM chicago_crime_data\n",
    "GROUP BY LOCATION_DESCRIPTION\n",
    "ORDER BY COUNT DESC;"
   ]
  },
  {
   "cell_type": "code",
   "execution_count": 711,
   "id": "61361c8a-5f71-42be-a790-88cdfed3da4a",
   "metadata": {},
   "outputs": [
    {
     "data": {
      "text/plain": [
       "sql.run.ResultSet"
      ]
     },
     "execution_count": 711,
     "metadata": {},
     "output_type": "execute_result"
    }
   ],
   "source": [
    "type(crime_locations)"
   ]
  },
  {
   "cell_type": "code",
   "execution_count": 393,
   "id": "9fb86c6e-3cd4-4892-9d6f-cc14e201b90b",
   "metadata": {
    "scrolled": true
   },
   "outputs": [
    {
     "data": {
      "text/html": [
       "<table>\n",
       "    <thead>\n",
       "        <tr>\n",
       "            <th>LOCATION</th>\n",
       "            <th>COUNT</th>\n",
       "            <th>PRIMARY_TYPE</th>\n",
       "        </tr>\n",
       "    </thead>\n",
       "    <tbody>\n",
       "        <tr>\n",
       "            <td>STREET</td>\n",
       "            <td>136</td>\n",
       "            <td>THEFT</td>\n",
       "        </tr>\n",
       "        <tr>\n",
       "            <td>RESIDENCE</td>\n",
       "            <td>84</td>\n",
       "            <td>THEFT</td>\n",
       "        </tr>\n",
       "        <tr>\n",
       "            <td>SIDEWALK</td>\n",
       "            <td>64</td>\n",
       "            <td>THEFT</td>\n",
       "        </tr>\n",
       "        <tr>\n",
       "            <td>APARTMENT</td>\n",
       "            <td>59</td>\n",
       "            <td>THEFT</td>\n",
       "        </tr>\n",
       "        <tr>\n",
       "            <td>OTHER</td>\n",
       "            <td>18</td>\n",
       "            <td>THEFT</td>\n",
       "        </tr>\n",
       "        <tr>\n",
       "            <td>PARKING LOT/GARAGE(NON.RESID.)</td>\n",
       "            <td>16</td>\n",
       "            <td>THEFT</td>\n",
       "        </tr>\n",
       "        <tr>\n",
       "            <td>RESTAURANT</td>\n",
       "            <td>11</td>\n",
       "            <td>THEFT</td>\n",
       "        </tr>\n",
       "        <tr>\n",
       "            <td>ALLEY</td>\n",
       "            <td>11</td>\n",
       "            <td>THEFT</td>\n",
       "        </tr>\n",
       "        <tr>\n",
       "            <td>RESIDENCE-GARAGE</td>\n",
       "            <td>10</td>\n",
       "            <td>THEFT</td>\n",
       "        </tr>\n",
       "        <tr>\n",
       "            <td>RESIDENCE PORCH/HALLWAY</td>\n",
       "            <td>10</td>\n",
       "            <td>THEFT</td>\n",
       "        </tr>\n",
       "        <tr>\n",
       "            <td>VEHICLE NON-COMMERCIAL</td>\n",
       "            <td>9</td>\n",
       "            <td>THEFT</td>\n",
       "        </tr>\n",
       "        <tr>\n",
       "            <td>DEPARTMENT STORE</td>\n",
       "            <td>9</td>\n",
       "            <td>THEFT</td>\n",
       "        </tr>\n",
       "        <tr>\n",
       "            <td>SMALL RETAIL STORE</td>\n",
       "            <td>8</td>\n",
       "            <td>THEFT</td>\n",
       "        </tr>\n",
       "        <tr>\n",
       "            <td>GROCERY FOOD STORE</td>\n",
       "            <td>8</td>\n",
       "            <td>THEFT</td>\n",
       "        </tr>\n",
       "        <tr>\n",
       "            <td>SCHOOL, PUBLIC, GROUNDS</td>\n",
       "            <td>6</td>\n",
       "            <td>BATTERY</td>\n",
       "        </tr>\n",
       "        <tr>\n",
       "            <td>RESIDENTIAL YARD (FRONT/BACK)</td>\n",
       "            <td>6</td>\n",
       "            <td>THEFT</td>\n",
       "        </tr>\n",
       "        <tr>\n",
       "            <td>GAS STATION</td>\n",
       "            <td>6</td>\n",
       "            <td>THEFT</td>\n",
       "        </tr>\n",
       "        <tr>\n",
       "            <td>SCHOOL, PUBLIC, BUILDING</td>\n",
       "            <td>5</td>\n",
       "            <td>BATTERY</td>\n",
       "        </tr>\n",
       "        <tr>\n",
       "            <td>CHURCH/SYNAGOGUE/PLACE OF WORSHIP</td>\n",
       "            <td>5</td>\n",
       "            <td>BATTERY</td>\n",
       "        </tr>\n",
       "        <tr>\n",
       "            <td>BANK</td>\n",
       "            <td>5</td>\n",
       "            <td>DECEPTIVE PRACTICE</td>\n",
       "        </tr>\n",
       "        <tr>\n",
       "            <td>COMMERCIAL / BUSINESS OFFICE</td>\n",
       "            <td>4</td>\n",
       "            <td>THEFT</td>\n",
       "        </tr>\n",
       "        <tr>\n",
       "            <td>BAR OR TAVERN</td>\n",
       "            <td>4</td>\n",
       "            <td>THEFT</td>\n",
       "        </tr>\n",
       "        <tr>\n",
       "            <td>DRUG STORE</td>\n",
       "            <td>3</td>\n",
       "            <td>THEFT</td>\n",
       "        </tr>\n",
       "        <tr>\n",
       "            <td>CTA PLATFORM</td>\n",
       "            <td>3</td>\n",
       "            <td>THEFT</td>\n",
       "        </tr>\n",
       "        <tr>\n",
       "            <td>CHA PARKING LOT/GROUNDS</td>\n",
       "            <td>3</td>\n",
       "            <td>CRIMINAL TRESPASS</td>\n",
       "        </tr>\n",
       "        <tr>\n",
       "            <td>AIRPORT/AIRCRAFT</td>\n",
       "            <td>3</td>\n",
       "            <td>THEFT</td>\n",
       "        </tr>\n",
       "        <tr>\n",
       "            <td>POLICE FACILITY/VEH PARKING LOT</td>\n",
       "            <td>2</td>\n",
       "            <td>NARCOTICS</td>\n",
       "        </tr>\n",
       "        <tr>\n",
       "            <td>OTHER COMMERCIAL TRANSPORTATION</td>\n",
       "            <td>2</td>\n",
       "            <td>BATTERY</td>\n",
       "        </tr>\n",
       "        <tr>\n",
       "            <td>NURSING HOME/RETIREMENT HOME</td>\n",
       "            <td>2</td>\n",
       "            <td>THEFT</td>\n",
       "        </tr>\n",
       "        <tr>\n",
       "            <td>CONSTRUCTION SITE</td>\n",
       "            <td>2</td>\n",
       "            <td>THEFT</td>\n",
       "        </tr>\n",
       "        <tr>\n",
       "            <td>CHA APARTMENT</td>\n",
       "            <td>2</td>\n",
       "            <td>BATTERY</td>\n",
       "        </tr>\n",
       "        <tr>\n",
       "            <td>WAREHOUSE</td>\n",
       "            <td>1</td>\n",
       "            <td>CRIMINAL DAMAGE</td>\n",
       "        </tr>\n",
       "        <tr>\n",
       "            <td>VACANT LOT/LAND</td>\n",
       "            <td>1</td>\n",
       "            <td>THEFT</td>\n",
       "        </tr>\n",
       "        <tr>\n",
       "            <td>TAVERN/LIQUOR STORE</td>\n",
       "            <td>1</td>\n",
       "            <td>THEFT</td>\n",
       "        </tr>\n",
       "        <tr>\n",
       "            <td>SCHOOL, PRIVATE, BUILDING</td>\n",
       "            <td>1</td>\n",
       "            <td>PUBLIC PEACE VIOLATION</td>\n",
       "        </tr>\n",
       "        <tr>\n",
       "            <td>MOVIE HOUSE/THEATER</td>\n",
       "            <td>1</td>\n",
       "            <td>THEFT</td>\n",
       "        </tr>\n",
       "        <tr>\n",
       "            <td>LIBRARY</td>\n",
       "            <td>1</td>\n",
       "            <td>CRIMINAL TRESPASS</td>\n",
       "        </tr>\n",
       "        <tr>\n",
       "            <td>HOUSE</td>\n",
       "            <td>1</td>\n",
       "            <td>HOMICIDE</td>\n",
       "        </tr>\n",
       "        <tr>\n",
       "            <td>HOSPITAL BUILDING/GROUNDS</td>\n",
       "            <td>1</td>\n",
       "            <td>ASSAULT</td>\n",
       "        </tr>\n",
       "        <tr>\n",
       "            <td>GOVERNMENT BUILDING/PROPERTY</td>\n",
       "            <td>1</td>\n",
       "            <td>NON-CRIMINAL</td>\n",
       "        </tr>\n",
       "        <tr>\n",
       "            <td>FACTORY/MANUFACTURING BUILDING</td>\n",
       "            <td>1</td>\n",
       "            <td>BURGLARY</td>\n",
       "        </tr>\n",
       "        <tr>\n",
       "            <td>CTA TRAIN</td>\n",
       "            <td>1</td>\n",
       "            <td>DECEPTIVE PRACTICE</td>\n",
       "        </tr>\n",
       "        <tr>\n",
       "            <td>CTA BUS</td>\n",
       "            <td>1</td>\n",
       "            <td>THEFT</td>\n",
       "        </tr>\n",
       "        <tr>\n",
       "            <td>CONVENIENCE STORE</td>\n",
       "            <td>1</td>\n",
       "            <td>LIQUOR LAW VIOLATION</td>\n",
       "        </tr>\n",
       "        <tr>\n",
       "            <td>COLLEGE/UNIVERSITY GROUNDS</td>\n",
       "            <td>1</td>\n",
       "            <td>CRIMINAL TRESPASS</td>\n",
       "        </tr>\n",
       "        <tr>\n",
       "            <td>CLEANING STORE</td>\n",
       "            <td>1</td>\n",
       "            <td>BURGLARY</td>\n",
       "        </tr>\n",
       "        <tr>\n",
       "            <td>CHA HALLWAY/STAIRWELL/ELEVATOR</td>\n",
       "            <td>1</td>\n",
       "            <td>CRIMINAL TRESPASS</td>\n",
       "        </tr>\n",
       "        <tr>\n",
       "            <td>ATHLETIC CLUB</td>\n",
       "            <td>1</td>\n",
       "            <td>THEFT</td>\n",
       "        </tr>\n",
       "    </tbody>\n",
       "</table>"
      ],
      "text/plain": [
       "[('STREET', 136, 'THEFT'),\n",
       " ('RESIDENCE', 84, 'THEFT'),\n",
       " ('SIDEWALK', 64, 'THEFT'),\n",
       " ('APARTMENT', 59, 'THEFT'),\n",
       " ('OTHER', 18, 'THEFT'),\n",
       " ('PARKING LOT/GARAGE(NON.RESID.)', 16, 'THEFT'),\n",
       " ('RESTAURANT', 11, 'THEFT'),\n",
       " ('ALLEY', 11, 'THEFT'),\n",
       " ('RESIDENCE-GARAGE', 10, 'THEFT'),\n",
       " ('RESIDENCE PORCH/HALLWAY', 10, 'THEFT'),\n",
       " ('VEHICLE NON-COMMERCIAL', 9, 'THEFT'),\n",
       " ('DEPARTMENT STORE', 9, 'THEFT'),\n",
       " ('SMALL RETAIL STORE', 8, 'THEFT'),\n",
       " ('GROCERY FOOD STORE', 8, 'THEFT'),\n",
       " ('SCHOOL, PUBLIC, GROUNDS', 6, 'BATTERY'),\n",
       " ('RESIDENTIAL YARD (FRONT/BACK)', 6, 'THEFT'),\n",
       " ('GAS STATION', 6, 'THEFT'),\n",
       " ('SCHOOL, PUBLIC, BUILDING', 5, 'BATTERY'),\n",
       " ('CHURCH/SYNAGOGUE/PLACE OF WORSHIP', 5, 'BATTERY'),\n",
       " ('BANK', 5, 'DECEPTIVE PRACTICE'),\n",
       " ('COMMERCIAL / BUSINESS OFFICE', 4, 'THEFT'),\n",
       " ('BAR OR TAVERN', 4, 'THEFT'),\n",
       " ('DRUG STORE', 3, 'THEFT'),\n",
       " ('CTA PLATFORM', 3, 'THEFT'),\n",
       " ('CHA PARKING LOT/GROUNDS', 3, 'CRIMINAL TRESPASS'),\n",
       " ('AIRPORT/AIRCRAFT', 3, 'THEFT'),\n",
       " ('POLICE FACILITY/VEH PARKING LOT', 2, 'NARCOTICS'),\n",
       " ('OTHER COMMERCIAL TRANSPORTATION', 2, 'BATTERY'),\n",
       " ('NURSING HOME/RETIREMENT HOME', 2, 'THEFT'),\n",
       " ('CONSTRUCTION SITE', 2, 'THEFT'),\n",
       " ('CHA APARTMENT', 2, 'BATTERY'),\n",
       " ('WAREHOUSE', 1, 'CRIMINAL DAMAGE'),\n",
       " ('VACANT LOT/LAND', 1, 'THEFT'),\n",
       " ('TAVERN/LIQUOR STORE', 1, 'THEFT'),\n",
       " ('SCHOOL, PRIVATE, BUILDING', 1, 'PUBLIC PEACE VIOLATION'),\n",
       " ('MOVIE HOUSE/THEATER', 1, 'THEFT'),\n",
       " ('LIBRARY', 1, 'CRIMINAL TRESPASS'),\n",
       " ('HOUSE', 1, 'HOMICIDE'),\n",
       " ('HOSPITAL BUILDING/GROUNDS', 1, 'ASSAULT'),\n",
       " ('GOVERNMENT BUILDING/PROPERTY', 1, 'NON-CRIMINAL'),\n",
       " ('FACTORY/MANUFACTURING BUILDING', 1, 'BURGLARY'),\n",
       " ('CTA TRAIN', 1, 'DECEPTIVE PRACTICE'),\n",
       " ('CTA BUS', 1, 'THEFT'),\n",
       " ('CONVENIENCE STORE', 1, 'LIQUOR LAW VIOLATION'),\n",
       " ('COLLEGE/UNIVERSITY GROUNDS', 1, 'CRIMINAL TRESPASS'),\n",
       " ('CLEANING STORE', 1, 'BURGLARY'),\n",
       " ('CHA HALLWAY/STAIRWELL/ELEVATOR', 1, 'CRIMINAL TRESPASS'),\n",
       " ('ATHLETIC CLUB', 1, 'THEFT')]"
      ]
     },
     "execution_count": 393,
     "metadata": {},
     "output_type": "execute_result"
    }
   ],
   "source": [
    "crime_locations"
   ]
  },
  {
   "cell_type": "code",
   "execution_count": 395,
   "id": "e99cb55a-65d6-4a0d-a7c3-a3324779586e",
   "metadata": {},
   "outputs": [],
   "source": [
    "# Converting the 'sql.run.ResultSet' into a pandas dataframe.\n",
    "crime_locations_df = crime_locations.DataFrame()"
   ]
  },
  {
   "cell_type": "code",
   "execution_count": 713,
   "id": "72030bd2-cf9b-4a49-9997-5ca77a3bc18d",
   "metadata": {},
   "outputs": [
    {
     "data": {
      "text/plain": [
       "(48, 3)"
      ]
     },
     "execution_count": 713,
     "metadata": {},
     "output_type": "execute_result"
    }
   ],
   "source": [
    "crime_locations_df.shape"
   ]
  },
  {
   "cell_type": "code",
   "execution_count": 715,
   "id": "af2d42c1-3e56-48ef-9402-5dc1a59dbb9f",
   "metadata": {
    "scrolled": true
   },
   "outputs": [],
   "source": [
    "# We only want the top 20 locations.\n",
    "top_crime_location_df = crime_locations_df.head(20)"
   ]
  },
  {
   "cell_type": "code",
   "execution_count": 717,
   "id": "6ea80ea5-535e-4484-ae87-d7a297c26b7e",
   "metadata": {
    "scrolled": true
   },
   "outputs": [
    {
     "data": {
      "text/html": [
       "<div>\n",
       "<style scoped>\n",
       "    .dataframe tbody tr th:only-of-type {\n",
       "        vertical-align: middle;\n",
       "    }\n",
       "\n",
       "    .dataframe tbody tr th {\n",
       "        vertical-align: top;\n",
       "    }\n",
       "\n",
       "    .dataframe thead th {\n",
       "        text-align: right;\n",
       "    }\n",
       "</style>\n",
       "<table border=\"1\" class=\"dataframe\">\n",
       "  <thead>\n",
       "    <tr style=\"text-align: right;\">\n",
       "      <th></th>\n",
       "      <th>LOCATION</th>\n",
       "      <th>COUNT</th>\n",
       "      <th>PRIMARY_TYPE</th>\n",
       "    </tr>\n",
       "  </thead>\n",
       "  <tbody>\n",
       "    <tr>\n",
       "      <th>0</th>\n",
       "      <td>STREET</td>\n",
       "      <td>136</td>\n",
       "      <td>THEFT</td>\n",
       "    </tr>\n",
       "    <tr>\n",
       "      <th>1</th>\n",
       "      <td>RESIDENCE</td>\n",
       "      <td>84</td>\n",
       "      <td>THEFT</td>\n",
       "    </tr>\n",
       "    <tr>\n",
       "      <th>2</th>\n",
       "      <td>SIDEWALK</td>\n",
       "      <td>64</td>\n",
       "      <td>THEFT</td>\n",
       "    </tr>\n",
       "    <tr>\n",
       "      <th>3</th>\n",
       "      <td>APARTMENT</td>\n",
       "      <td>59</td>\n",
       "      <td>THEFT</td>\n",
       "    </tr>\n",
       "    <tr>\n",
       "      <th>4</th>\n",
       "      <td>OTHER</td>\n",
       "      <td>18</td>\n",
       "      <td>THEFT</td>\n",
       "    </tr>\n",
       "    <tr>\n",
       "      <th>5</th>\n",
       "      <td>PARKING LOT/GARAGE(NON.RESID.)</td>\n",
       "      <td>16</td>\n",
       "      <td>THEFT</td>\n",
       "    </tr>\n",
       "    <tr>\n",
       "      <th>6</th>\n",
       "      <td>RESTAURANT</td>\n",
       "      <td>11</td>\n",
       "      <td>THEFT</td>\n",
       "    </tr>\n",
       "    <tr>\n",
       "      <th>7</th>\n",
       "      <td>ALLEY</td>\n",
       "      <td>11</td>\n",
       "      <td>THEFT</td>\n",
       "    </tr>\n",
       "    <tr>\n",
       "      <th>8</th>\n",
       "      <td>RESIDENCE-GARAGE</td>\n",
       "      <td>10</td>\n",
       "      <td>THEFT</td>\n",
       "    </tr>\n",
       "    <tr>\n",
       "      <th>9</th>\n",
       "      <td>RESIDENCE PORCH/HALLWAY</td>\n",
       "      <td>10</td>\n",
       "      <td>THEFT</td>\n",
       "    </tr>\n",
       "    <tr>\n",
       "      <th>10</th>\n",
       "      <td>VEHICLE NON-COMMERCIAL</td>\n",
       "      <td>9</td>\n",
       "      <td>THEFT</td>\n",
       "    </tr>\n",
       "    <tr>\n",
       "      <th>11</th>\n",
       "      <td>DEPARTMENT STORE</td>\n",
       "      <td>9</td>\n",
       "      <td>THEFT</td>\n",
       "    </tr>\n",
       "    <tr>\n",
       "      <th>12</th>\n",
       "      <td>SMALL RETAIL STORE</td>\n",
       "      <td>8</td>\n",
       "      <td>THEFT</td>\n",
       "    </tr>\n",
       "    <tr>\n",
       "      <th>13</th>\n",
       "      <td>GROCERY FOOD STORE</td>\n",
       "      <td>8</td>\n",
       "      <td>THEFT</td>\n",
       "    </tr>\n",
       "    <tr>\n",
       "      <th>14</th>\n",
       "      <td>SCHOOL, PUBLIC, GROUNDS</td>\n",
       "      <td>6</td>\n",
       "      <td>BATTERY</td>\n",
       "    </tr>\n",
       "    <tr>\n",
       "      <th>15</th>\n",
       "      <td>RESIDENTIAL YARD (FRONT/BACK)</td>\n",
       "      <td>6</td>\n",
       "      <td>THEFT</td>\n",
       "    </tr>\n",
       "    <tr>\n",
       "      <th>16</th>\n",
       "      <td>GAS STATION</td>\n",
       "      <td>6</td>\n",
       "      <td>THEFT</td>\n",
       "    </tr>\n",
       "    <tr>\n",
       "      <th>17</th>\n",
       "      <td>SCHOOL, PUBLIC, BUILDING</td>\n",
       "      <td>5</td>\n",
       "      <td>BATTERY</td>\n",
       "    </tr>\n",
       "    <tr>\n",
       "      <th>18</th>\n",
       "      <td>CHURCH/SYNAGOGUE/PLACE OF WORSHIP</td>\n",
       "      <td>5</td>\n",
       "      <td>BATTERY</td>\n",
       "    </tr>\n",
       "    <tr>\n",
       "      <th>19</th>\n",
       "      <td>BANK</td>\n",
       "      <td>5</td>\n",
       "      <td>DECEPTIVE PRACTICE</td>\n",
       "    </tr>\n",
       "  </tbody>\n",
       "</table>\n",
       "</div>"
      ],
      "text/plain": [
       "                             LOCATION  COUNT        PRIMARY_TYPE\n",
       "0                              STREET    136               THEFT\n",
       "1                           RESIDENCE     84               THEFT\n",
       "2                            SIDEWALK     64               THEFT\n",
       "3                           APARTMENT     59               THEFT\n",
       "4                               OTHER     18               THEFT\n",
       "5      PARKING LOT/GARAGE(NON.RESID.)     16               THEFT\n",
       "6                          RESTAURANT     11               THEFT\n",
       "7                               ALLEY     11               THEFT\n",
       "8                    RESIDENCE-GARAGE     10               THEFT\n",
       "9             RESIDENCE PORCH/HALLWAY     10               THEFT\n",
       "10             VEHICLE NON-COMMERCIAL      9               THEFT\n",
       "11                   DEPARTMENT STORE      9               THEFT\n",
       "12                 SMALL RETAIL STORE      8               THEFT\n",
       "13                 GROCERY FOOD STORE      8               THEFT\n",
       "14            SCHOOL, PUBLIC, GROUNDS      6             BATTERY\n",
       "15      RESIDENTIAL YARD (FRONT/BACK)      6               THEFT\n",
       "16                        GAS STATION      6               THEFT\n",
       "17           SCHOOL, PUBLIC, BUILDING      5             BATTERY\n",
       "18  CHURCH/SYNAGOGUE/PLACE OF WORSHIP      5             BATTERY\n",
       "19                               BANK      5  DECEPTIVE PRACTICE"
      ]
     },
     "execution_count": 717,
     "metadata": {},
     "output_type": "execute_result"
    }
   ],
   "source": [
    "top_crime_location_df"
   ]
  },
  {
   "cell_type": "code",
   "execution_count": 719,
   "id": "bb31e692-8106-4a26-b0d7-de22e9f156b0",
   "metadata": {},
   "outputs": [
    {
     "data": {
      "image/png": "[encoded data removed]",
      "text/plain": [
       "<Figure size 1200x600 with 1 Axes>"
      ]
     },
     "metadata": {},
     "output_type": "display_data"
    }
   ],
   "source": [
    "plt.figure(figsize=(12,6))\n",
    "plt.xticks(rotation=45, ha='right')\n",
    "sb.barplot(x='LOCATION', y='COUNT', data=top_crime_location_df, hue='PRIMARY_TYPE', palette='bright', saturation=0.85)\n",
    "plt.title('Crimes in Different Locations', size=20)\n",
    "plt.xlabel('Location', size=15)\n",
    "plt.ylabel('Count', size=15)\n",
    "plt.show()"
   ]
  },
  {
   "cell_type": "markdown",
   "id": "fe3f68b1-9e03-4580-b23e-00846451efea",
   "metadata": {},
   "source": [
    "## **Findings:**\n",
    "#### The plot reveals that the majority of crimes occur on `Streets`, in `Residences`, on `Sidewalks`, and in `Apartments`. Additionally, `Theft emerges as the most dominant crime type across nearly all locations`."
   ]
  },
  {
   "cell_type": "markdown",
   "id": "53c4382e-5549-48ff-b757-3a232650699e",
   "metadata": {},
   "source": [
    "# Now, let's visualize the `Census Data` to explore the different attributes and the potential relationships between them."
   ]
  },
  {
   "cell_type": "code",
   "execution_count": 478,
   "id": "b5e87487-eb32-494d-88b3-6ab3a9c66921",
   "metadata": {},
   "outputs": [
    {
     "data": {
      "text/plain": [
       "Index(['COMMUNITY_AREA_NUMBER', 'COMMUNITY_AREA_NAME',\n",
       "       'PERCENT_OF_HOUSING_CROWDED', 'PERCENT_HOUSEHOLDS_BELOW_POVERTY',\n",
       "       'PERCENT_AGED_16__UNEMPLOYED',\n",
       "       'PERCENT_AGED_25__WITHOUT_HIGH_SCHOOL_DIPLOMA',\n",
       "       'PERCENT_AGED_UNDER_18_OR_OVER_64', 'PER_CAPITA_INCOME',\n",
       "       'HARDSHIP_INDEX'],\n",
       "      dtype='object')"
      ]
     },
     "execution_count": 478,
     "metadata": {},
     "output_type": "execute_result"
    }
   ],
   "source": [
    "chicago_census_data.columns"
   ]
  },
  {
   "cell_type": "code",
   "execution_count": 482,
   "id": "89afd258-7dde-4c4d-989a-367d32a66b3c",
   "metadata": {},
   "outputs": [
    {
     "data": {
      "text/html": [
       "<div>\n",
       "<style scoped>\n",
       "    .dataframe tbody tr th:only-of-type {\n",
       "        vertical-align: middle;\n",
       "    }\n",
       "\n",
       "    .dataframe tbody tr th {\n",
       "        vertical-align: top;\n",
       "    }\n",
       "\n",
       "    .dataframe thead th {\n",
       "        text-align: right;\n",
       "    }\n",
       "</style>\n",
       "<table border=\"1\" class=\"dataframe\">\n",
       "  <thead>\n",
       "    <tr style=\"text-align: right;\">\n",
       "      <th></th>\n",
       "      <th>COMMUNITY_AREA_NUMBER</th>\n",
       "      <th>COMMUNITY_AREA_NAME</th>\n",
       "      <th>PERCENT_OF_HOUSING_CROWDED</th>\n",
       "      <th>PERCENT_HOUSEHOLDS_BELOW_POVERTY</th>\n",
       "      <th>PERCENT_AGED_16__UNEMPLOYED</th>\n",
       "      <th>PERCENT_AGED_25__WITHOUT_HIGH_SCHOOL_DIPLOMA</th>\n",
       "      <th>PERCENT_AGED_UNDER_18_OR_OVER_64</th>\n",
       "      <th>PER_CAPITA_INCOME</th>\n",
       "      <th>HARDSHIP_INDEX</th>\n",
       "    </tr>\n",
       "  </thead>\n",
       "  <tbody>\n",
       "    <tr>\n",
       "      <th>0</th>\n",
       "      <td>1.0</td>\n",
       "      <td>Rogers Park</td>\n",
       "      <td>7.7</td>\n",
       "      <td>23.6</td>\n",
       "      <td>8.7</td>\n",
       "      <td>18.2</td>\n",
       "      <td>27.5</td>\n",
       "      <td>23939</td>\n",
       "      <td>39.0</td>\n",
       "    </tr>\n",
       "  </tbody>\n",
       "</table>\n",
       "</div>"
      ],
      "text/plain": [
       "   COMMUNITY_AREA_NUMBER COMMUNITY_AREA_NAME  PERCENT_OF_HOUSING_CROWDED  \\\n",
       "0                    1.0         Rogers Park                         7.7   \n",
       "\n",
       "   PERCENT_HOUSEHOLDS_BELOW_POVERTY  PERCENT_AGED_16__UNEMPLOYED  \\\n",
       "0                              23.6                          8.7   \n",
       "\n",
       "   PERCENT_AGED_25__WITHOUT_HIGH_SCHOOL_DIPLOMA  \\\n",
       "0                                          18.2   \n",
       "\n",
       "   PERCENT_AGED_UNDER_18_OR_OVER_64  PER_CAPITA_INCOME  HARDSHIP_INDEX  \n",
       "0                              27.5              23939            39.0  "
      ]
     },
     "execution_count": 482,
     "metadata": {},
     "output_type": "execute_result"
    }
   ],
   "source": [
    "chicago_census_data.head(1)"
   ]
  },
  {
   "cell_type": "code",
   "execution_count": 761,
   "id": "4605adee-90f1-458d-bb4e-ac4066eb777f",
   "metadata": {},
   "outputs": [
    {
     "data": {
      "text/plain": [
       "(78, 9)"
      ]
     },
     "execution_count": 761,
     "metadata": {},
     "output_type": "execute_result"
    }
   ],
   "source": [
    "# Finding the shape of the dataframe i.e. number of rows and columns the dataframe has.\n",
    "chicago_census_data.shape"
   ]
  },
  {
   "cell_type": "code",
   "execution_count": 488,
   "id": "2bea006e-eb99-4595-af33-c76397c89495",
   "metadata": {},
   "outputs": [
    {
     "name": "stdout",
     "output_type": "stream",
     "text": [
      " * sqlite:///ibm_sql.db\n",
      "Done.\n"
     ]
    },
    {
     "data": {
      "text/html": [
       "<table>\n",
       "    <thead>\n",
       "        <tr>\n",
       "            <th>COMMUNITY_AREA_NAME</th>\n",
       "            <th>PERCENT_HOUSEHOLDS_BELOW_POVERTY</th>\n",
       "            <th>PER_CAPITA_INCOME</th>\n",
       "            <th>HARDSHIP_INDEX</th>\n",
       "            <th>PERCENT_AGED_16__UNEMPLOYED</th>\n",
       "            <th>PERCENT_AGED_25__WITHOUT_HIGH_SCHOOL_DIPLOMA</th>\n",
       "        </tr>\n",
       "    </thead>\n",
       "    <tbody>\n",
       "        <tr>\n",
       "            <td>Rogers Park</td>\n",
       "            <td>23.6</td>\n",
       "            <td>23939</td>\n",
       "            <td>39.0</td>\n",
       "            <td>8.7</td>\n",
       "            <td>18.2</td>\n",
       "        </tr>\n",
       "        <tr>\n",
       "            <td>West Ridge</td>\n",
       "            <td>17.2</td>\n",
       "            <td>23040</td>\n",
       "            <td>46.0</td>\n",
       "            <td>8.8</td>\n",
       "            <td>20.8</td>\n",
       "        </tr>\n",
       "        <tr>\n",
       "            <td>Uptown</td>\n",
       "            <td>24.0</td>\n",
       "            <td>35787</td>\n",
       "            <td>20.0</td>\n",
       "            <td>8.9</td>\n",
       "            <td>11.8</td>\n",
       "        </tr>\n",
       "        <tr>\n",
       "            <td>Lincoln Square</td>\n",
       "            <td>10.9</td>\n",
       "            <td>37524</td>\n",
       "            <td>17.0</td>\n",
       "            <td>8.2</td>\n",
       "            <td>13.4</td>\n",
       "        </tr>\n",
       "        <tr>\n",
       "            <td>North Center</td>\n",
       "            <td>7.5</td>\n",
       "            <td>57123</td>\n",
       "            <td>6.0</td>\n",
       "            <td>5.2</td>\n",
       "            <td>4.5</td>\n",
       "        </tr>\n",
       "        <tr>\n",
       "            <td>Lake View</td>\n",
       "            <td>11.4</td>\n",
       "            <td>60058</td>\n",
       "            <td>5.0</td>\n",
       "            <td>4.7</td>\n",
       "            <td>2.6</td>\n",
       "        </tr>\n",
       "        <tr>\n",
       "            <td>Lincoln Park</td>\n",
       "            <td>12.3</td>\n",
       "            <td>71551</td>\n",
       "            <td>2.0</td>\n",
       "            <td>5.1</td>\n",
       "            <td>3.6</td>\n",
       "        </tr>\n",
       "        <tr>\n",
       "            <td>Near North Side</td>\n",
       "            <td>12.9</td>\n",
       "            <td>88669</td>\n",
       "            <td>1.0</td>\n",
       "            <td>7.0</td>\n",
       "            <td>2.5</td>\n",
       "        </tr>\n",
       "        <tr>\n",
       "            <td>Edison Park</td>\n",
       "            <td>3.3</td>\n",
       "            <td>40959</td>\n",
       "            <td>8.0</td>\n",
       "            <td>6.5</td>\n",
       "            <td>7.4</td>\n",
       "        </tr>\n",
       "        <tr>\n",
       "            <td>Norwood Park</td>\n",
       "            <td>5.4</td>\n",
       "            <td>32875</td>\n",
       "            <td>21.0</td>\n",
       "            <td>9.0</td>\n",
       "            <td>11.5</td>\n",
       "        </tr>\n",
       "        <tr>\n",
       "            <td>Jefferson Park</td>\n",
       "            <td>8.6</td>\n",
       "            <td>27751</td>\n",
       "            <td>25.0</td>\n",
       "            <td>12.4</td>\n",
       "            <td>13.4</td>\n",
       "        </tr>\n",
       "        <tr>\n",
       "            <td>Forest Glen</td>\n",
       "            <td>7.5</td>\n",
       "            <td>44164</td>\n",
       "            <td>11.0</td>\n",
       "            <td>6.8</td>\n",
       "            <td>4.9</td>\n",
       "        </tr>\n",
       "        <tr>\n",
       "            <td>North Park</td>\n",
       "            <td>13.2</td>\n",
       "            <td>26576</td>\n",
       "            <td>33.0</td>\n",
       "            <td>9.9</td>\n",
       "            <td>14.4</td>\n",
       "        </tr>\n",
       "        <tr>\n",
       "            <td>Albany Park</td>\n",
       "            <td>19.2</td>\n",
       "            <td>21323</td>\n",
       "            <td>53.0</td>\n",
       "            <td>10.0</td>\n",
       "            <td>32.9</td>\n",
       "        </tr>\n",
       "        <tr>\n",
       "            <td>Portage Park</td>\n",
       "            <td>11.6</td>\n",
       "            <td>24336</td>\n",
       "            <td>35.0</td>\n",
       "            <td>12.6</td>\n",
       "            <td>19.3</td>\n",
       "        </tr>\n",
       "        <tr>\n",
       "            <td>Irving Park</td>\n",
       "            <td>13.1</td>\n",
       "            <td>27249</td>\n",
       "            <td>34.0</td>\n",
       "            <td>10.0</td>\n",
       "            <td>22.4</td>\n",
       "        </tr>\n",
       "        <tr>\n",
       "            <td>Dunning</td>\n",
       "            <td>10.6</td>\n",
       "            <td>26282</td>\n",
       "            <td>28.0</td>\n",
       "            <td>10.0</td>\n",
       "            <td>16.2</td>\n",
       "        </tr>\n",
       "        <tr>\n",
       "            <td>Montclaire</td>\n",
       "            <td>15.3</td>\n",
       "            <td>22014</td>\n",
       "            <td>50.0</td>\n",
       "            <td>13.8</td>\n",
       "            <td>23.5</td>\n",
       "        </tr>\n",
       "        <tr>\n",
       "            <td>Belmont Cragin</td>\n",
       "            <td>18.7</td>\n",
       "            <td>15461</td>\n",
       "            <td>70.0</td>\n",
       "            <td>14.6</td>\n",
       "            <td>37.3</td>\n",
       "        </tr>\n",
       "        <tr>\n",
       "            <td>Hermosa</td>\n",
       "            <td>20.5</td>\n",
       "            <td>15089</td>\n",
       "            <td>71.0</td>\n",
       "            <td>13.1</td>\n",
       "            <td>41.6</td>\n",
       "        </tr>\n",
       "        <tr>\n",
       "            <td>Avondale</td>\n",
       "            <td>15.3</td>\n",
       "            <td>20039</td>\n",
       "            <td>42.0</td>\n",
       "            <td>9.2</td>\n",
       "            <td>24.7</td>\n",
       "        </tr>\n",
       "        <tr>\n",
       "            <td>Logan Square</td>\n",
       "            <td>16.8</td>\n",
       "            <td>31908</td>\n",
       "            <td>23.0</td>\n",
       "            <td>8.2</td>\n",
       "            <td>14.8</td>\n",
       "        </tr>\n",
       "        <tr>\n",
       "            <td>Humboldt park</td>\n",
       "            <td>33.9</td>\n",
       "            <td>13781</td>\n",
       "            <td>85.0</td>\n",
       "            <td>17.3</td>\n",
       "            <td>35.4</td>\n",
       "        </tr>\n",
       "        <tr>\n",
       "            <td>West Town</td>\n",
       "            <td>14.7</td>\n",
       "            <td>43198</td>\n",
       "            <td>10.0</td>\n",
       "            <td>6.6</td>\n",
       "            <td>12.9</td>\n",
       "        </tr>\n",
       "        <tr>\n",
       "            <td>Austin</td>\n",
       "            <td>28.6</td>\n",
       "            <td>15957</td>\n",
       "            <td>73.0</td>\n",
       "            <td>22.6</td>\n",
       "            <td>24.4</td>\n",
       "        </tr>\n",
       "        <tr>\n",
       "            <td>West Garfield Park</td>\n",
       "            <td>41.7</td>\n",
       "            <td>10934</td>\n",
       "            <td>92.0</td>\n",
       "            <td>25.8</td>\n",
       "            <td>24.5</td>\n",
       "        </tr>\n",
       "        <tr>\n",
       "            <td>East Garfield Park</td>\n",
       "            <td>42.4</td>\n",
       "            <td>12961</td>\n",
       "            <td>83.0</td>\n",
       "            <td>19.6</td>\n",
       "            <td>21.3</td>\n",
       "        </tr>\n",
       "        <tr>\n",
       "            <td>Near West Side</td>\n",
       "            <td>20.6</td>\n",
       "            <td>44689</td>\n",
       "            <td>15.0</td>\n",
       "            <td>10.7</td>\n",
       "            <td>9.6</td>\n",
       "        </tr>\n",
       "        <tr>\n",
       "            <td>North Lawndale</td>\n",
       "            <td>43.1</td>\n",
       "            <td>12034</td>\n",
       "            <td>87.0</td>\n",
       "            <td>21.2</td>\n",
       "            <td>27.6</td>\n",
       "        </tr>\n",
       "        <tr>\n",
       "            <td>South Lawndale</td>\n",
       "            <td>30.7</td>\n",
       "            <td>10402</td>\n",
       "            <td>96.0</td>\n",
       "            <td>15.8</td>\n",
       "            <td>54.8</td>\n",
       "        </tr>\n",
       "        <tr>\n",
       "            <td>Lower West Side</td>\n",
       "            <td>25.8</td>\n",
       "            <td>16444</td>\n",
       "            <td>76.0</td>\n",
       "            <td>15.8</td>\n",
       "            <td>40.7</td>\n",
       "        </tr>\n",
       "        <tr>\n",
       "            <td>Loop</td>\n",
       "            <td>14.7</td>\n",
       "            <td>65526</td>\n",
       "            <td>3.0</td>\n",
       "            <td>5.7</td>\n",
       "            <td>3.1</td>\n",
       "        </tr>\n",
       "        <tr>\n",
       "            <td>Near South Side</td>\n",
       "            <td>13.8</td>\n",
       "            <td>59077</td>\n",
       "            <td>7.0</td>\n",
       "            <td>4.9</td>\n",
       "            <td>7.4</td>\n",
       "        </tr>\n",
       "        <tr>\n",
       "            <td>Armour Square</td>\n",
       "            <td>40.1</td>\n",
       "            <td>16148</td>\n",
       "            <td>82.0</td>\n",
       "            <td>16.7</td>\n",
       "            <td>34.5</td>\n",
       "        </tr>\n",
       "        <tr>\n",
       "            <td>Douglas</td>\n",
       "            <td>29.6</td>\n",
       "            <td>23791</td>\n",
       "            <td>47.0</td>\n",
       "            <td>18.2</td>\n",
       "            <td>14.3</td>\n",
       "        </tr>\n",
       "        <tr>\n",
       "            <td>Oakland</td>\n",
       "            <td>39.7</td>\n",
       "            <td>19252</td>\n",
       "            <td>78.0</td>\n",
       "            <td>28.7</td>\n",
       "            <td>18.4</td>\n",
       "        </tr>\n",
       "        <tr>\n",
       "            <td>Fuller Park</td>\n",
       "            <td>51.2</td>\n",
       "            <td>10432</td>\n",
       "            <td>97.0</td>\n",
       "            <td>33.9</td>\n",
       "            <td>26.6</td>\n",
       "        </tr>\n",
       "        <tr>\n",
       "            <td>Grand Boulevard</td>\n",
       "            <td>29.3</td>\n",
       "            <td>23472</td>\n",
       "            <td>57.0</td>\n",
       "            <td>24.3</td>\n",
       "            <td>15.9</td>\n",
       "        </tr>\n",
       "        <tr>\n",
       "            <td>Kenwood</td>\n",
       "            <td>21.7</td>\n",
       "            <td>35911</td>\n",
       "            <td>26.0</td>\n",
       "            <td>15.7</td>\n",
       "            <td>11.3</td>\n",
       "        </tr>\n",
       "        <tr>\n",
       "            <td>Washington Park</td>\n",
       "            <td>42.1</td>\n",
       "            <td>13785</td>\n",
       "            <td>88.0</td>\n",
       "            <td>28.6</td>\n",
       "            <td>25.4</td>\n",
       "        </tr>\n",
       "        <tr>\n",
       "            <td>Hyde Park</td>\n",
       "            <td>18.4</td>\n",
       "            <td>39056</td>\n",
       "            <td>14.0</td>\n",
       "            <td>8.4</td>\n",
       "            <td>4.3</td>\n",
       "        </tr>\n",
       "        <tr>\n",
       "            <td>Woodlawn</td>\n",
       "            <td>30.7</td>\n",
       "            <td>18672</td>\n",
       "            <td>58.0</td>\n",
       "            <td>23.4</td>\n",
       "            <td>16.5</td>\n",
       "        </tr>\n",
       "        <tr>\n",
       "            <td>South Shore</td>\n",
       "            <td>31.1</td>\n",
       "            <td>19398</td>\n",
       "            <td>55.0</td>\n",
       "            <td>20.0</td>\n",
       "            <td>14.0</td>\n",
       "        </tr>\n",
       "        <tr>\n",
       "            <td>Chatham</td>\n",
       "            <td>27.8</td>\n",
       "            <td>18881</td>\n",
       "            <td>60.0</td>\n",
       "            <td>24.0</td>\n",
       "            <td>14.5</td>\n",
       "        </tr>\n",
       "        <tr>\n",
       "            <td>Avalon Park</td>\n",
       "            <td>17.2</td>\n",
       "            <td>24454</td>\n",
       "            <td>41.0</td>\n",
       "            <td>21.1</td>\n",
       "            <td>10.6</td>\n",
       "        </tr>\n",
       "        <tr>\n",
       "            <td>South Chicago</td>\n",
       "            <td>29.8</td>\n",
       "            <td>16579</td>\n",
       "            <td>75.0</td>\n",
       "            <td>19.7</td>\n",
       "            <td>26.6</td>\n",
       "        </tr>\n",
       "        <tr>\n",
       "            <td>Burnside</td>\n",
       "            <td>33.0</td>\n",
       "            <td>12515</td>\n",
       "            <td>79.0</td>\n",
       "            <td>18.6</td>\n",
       "            <td>19.3</td>\n",
       "        </tr>\n",
       "        <tr>\n",
       "            <td>Calumet Heights</td>\n",
       "            <td>11.5</td>\n",
       "            <td>28887</td>\n",
       "            <td>38.0</td>\n",
       "            <td>20.0</td>\n",
       "            <td>11.0</td>\n",
       "        </tr>\n",
       "        <tr>\n",
       "            <td>Roseland</td>\n",
       "            <td>19.8</td>\n",
       "            <td>17949</td>\n",
       "            <td>52.0</td>\n",
       "            <td>20.3</td>\n",
       "            <td>16.9</td>\n",
       "        </tr>\n",
       "        <tr>\n",
       "            <td>Pullman</td>\n",
       "            <td>21.6</td>\n",
       "            <td>20588</td>\n",
       "            <td>51.0</td>\n",
       "            <td>22.8</td>\n",
       "            <td>13.1</td>\n",
       "        </tr>\n",
       "        <tr>\n",
       "            <td>South Deering</td>\n",
       "            <td>29.2</td>\n",
       "            <td>14685</td>\n",
       "            <td>65.0</td>\n",
       "            <td>16.3</td>\n",
       "            <td>21.0</td>\n",
       "        </tr>\n",
       "        <tr>\n",
       "            <td>East Side</td>\n",
       "            <td>19.2</td>\n",
       "            <td>17104</td>\n",
       "            <td>64.0</td>\n",
       "            <td>12.1</td>\n",
       "            <td>31.9</td>\n",
       "        </tr>\n",
       "        <tr>\n",
       "            <td>West Pullman</td>\n",
       "            <td>25.9</td>\n",
       "            <td>16563</td>\n",
       "            <td>62.0</td>\n",
       "            <td>19.4</td>\n",
       "            <td>20.5</td>\n",
       "        </tr>\n",
       "        <tr>\n",
       "            <td>Riverdale</td>\n",
       "            <td>56.5</td>\n",
       "            <td>8201</td>\n",
       "            <td>98.0</td>\n",
       "            <td>34.6</td>\n",
       "            <td>27.5</td>\n",
       "        </tr>\n",
       "        <tr>\n",
       "            <td>Hegewisch</td>\n",
       "            <td>17.1</td>\n",
       "            <td>22677</td>\n",
       "            <td>44.0</td>\n",
       "            <td>9.6</td>\n",
       "            <td>19.2</td>\n",
       "        </tr>\n",
       "        <tr>\n",
       "            <td>Garfield Ridge</td>\n",
       "            <td>8.8</td>\n",
       "            <td>26353</td>\n",
       "            <td>32.0</td>\n",
       "            <td>11.3</td>\n",
       "            <td>19.3</td>\n",
       "        </tr>\n",
       "        <tr>\n",
       "            <td>Archer Heights</td>\n",
       "            <td>14.1</td>\n",
       "            <td>16134</td>\n",
       "            <td>67.0</td>\n",
       "            <td>16.5</td>\n",
       "            <td>35.9</td>\n",
       "        </tr>\n",
       "        <tr>\n",
       "            <td>Brighton Park</td>\n",
       "            <td>23.6</td>\n",
       "            <td>13089</td>\n",
       "            <td>84.0</td>\n",
       "            <td>13.9</td>\n",
       "            <td>45.1</td>\n",
       "        </tr>\n",
       "        <tr>\n",
       "            <td>McKinley Park</td>\n",
       "            <td>18.7</td>\n",
       "            <td>16954</td>\n",
       "            <td>61.0</td>\n",
       "            <td>13.4</td>\n",
       "            <td>32.9</td>\n",
       "        </tr>\n",
       "        <tr>\n",
       "            <td>Bridgeport</td>\n",
       "            <td>18.9</td>\n",
       "            <td>22694</td>\n",
       "            <td>43.0</td>\n",
       "            <td>13.7</td>\n",
       "            <td>22.2</td>\n",
       "        </tr>\n",
       "        <tr>\n",
       "            <td>New City</td>\n",
       "            <td>29.0</td>\n",
       "            <td>12765</td>\n",
       "            <td>91.0</td>\n",
       "            <td>23.0</td>\n",
       "            <td>41.5</td>\n",
       "        </tr>\n",
       "        <tr>\n",
       "            <td>West Elsdon</td>\n",
       "            <td>15.6</td>\n",
       "            <td>15754</td>\n",
       "            <td>69.0</td>\n",
       "            <td>16.7</td>\n",
       "            <td>37.0</td>\n",
       "        </tr>\n",
       "        <tr>\n",
       "            <td>Gage Park</td>\n",
       "            <td>23.4</td>\n",
       "            <td>12171</td>\n",
       "            <td>93.0</td>\n",
       "            <td>18.2</td>\n",
       "            <td>51.5</td>\n",
       "        </tr>\n",
       "        <tr>\n",
       "            <td>Clearing</td>\n",
       "            <td>8.9</td>\n",
       "            <td>25113</td>\n",
       "            <td>29.0</td>\n",
       "            <td>9.5</td>\n",
       "            <td>18.8</td>\n",
       "        </tr>\n",
       "        <tr>\n",
       "            <td>West Lawn</td>\n",
       "            <td>14.9</td>\n",
       "            <td>16907</td>\n",
       "            <td>56.0</td>\n",
       "            <td>9.6</td>\n",
       "            <td>33.6</td>\n",
       "        </tr>\n",
       "        <tr>\n",
       "            <td>Chicago Lawn</td>\n",
       "            <td>27.9</td>\n",
       "            <td>13231</td>\n",
       "            <td>80.0</td>\n",
       "            <td>17.1</td>\n",
       "            <td>31.2</td>\n",
       "        </tr>\n",
       "        <tr>\n",
       "            <td>West Englewood</td>\n",
       "            <td>34.4</td>\n",
       "            <td>11317</td>\n",
       "            <td>89.0</td>\n",
       "            <td>35.9</td>\n",
       "            <td>26.3</td>\n",
       "        </tr>\n",
       "        <tr>\n",
       "            <td>Englewood</td>\n",
       "            <td>46.6</td>\n",
       "            <td>11888</td>\n",
       "            <td>94.0</td>\n",
       "            <td>28.0</td>\n",
       "            <td>28.5</td>\n",
       "        </tr>\n",
       "        <tr>\n",
       "            <td>Greater Grand Crossing</td>\n",
       "            <td>29.6</td>\n",
       "            <td>17285</td>\n",
       "            <td>66.0</td>\n",
       "            <td>23.0</td>\n",
       "            <td>16.5</td>\n",
       "        </tr>\n",
       "        <tr>\n",
       "            <td>Ashburn</td>\n",
       "            <td>10.4</td>\n",
       "            <td>23482</td>\n",
       "            <td>37.0</td>\n",
       "            <td>11.7</td>\n",
       "            <td>17.7</td>\n",
       "        </tr>\n",
       "        <tr>\n",
       "            <td>Auburn Gresham</td>\n",
       "            <td>27.6</td>\n",
       "            <td>15528</td>\n",
       "            <td>74.0</td>\n",
       "            <td>28.3</td>\n",
       "            <td>18.5</td>\n",
       "        </tr>\n",
       "        <tr>\n",
       "            <td>Beverly</td>\n",
       "            <td>5.1</td>\n",
       "            <td>39523</td>\n",
       "            <td>12.0</td>\n",
       "            <td>8.0</td>\n",
       "            <td>3.7</td>\n",
       "        </tr>\n",
       "        <tr>\n",
       "            <td>Washington Height</td>\n",
       "            <td>16.9</td>\n",
       "            <td>19713</td>\n",
       "            <td>48.0</td>\n",
       "            <td>20.8</td>\n",
       "            <td>13.7</td>\n",
       "        </tr>\n",
       "        <tr>\n",
       "            <td>Mount Greenwood</td>\n",
       "            <td>3.4</td>\n",
       "            <td>34381</td>\n",
       "            <td>16.0</td>\n",
       "            <td>8.7</td>\n",
       "            <td>4.3</td>\n",
       "        </tr>\n",
       "        <tr>\n",
       "            <td>Morgan Park</td>\n",
       "            <td>13.2</td>\n",
       "            <td>27149</td>\n",
       "            <td>30.0</td>\n",
       "            <td>15.0</td>\n",
       "            <td>10.8</td>\n",
       "        </tr>\n",
       "        <tr>\n",
       "            <td>O&#x27;Hare</td>\n",
       "            <td>15.4</td>\n",
       "            <td>25828</td>\n",
       "            <td>24.0</td>\n",
       "            <td>7.1</td>\n",
       "            <td>10.9</td>\n",
       "        </tr>\n",
       "        <tr>\n",
       "            <td>Edgewater</td>\n",
       "            <td>18.2</td>\n",
       "            <td>33385</td>\n",
       "            <td>19.0</td>\n",
       "            <td>9.2</td>\n",
       "            <td>9.7</td>\n",
       "        </tr>\n",
       "        <tr>\n",
       "            <td>CHICAGO</td>\n",
       "            <td>19.7</td>\n",
       "            <td>28202</td>\n",
       "            <td>None</td>\n",
       "            <td>12.9</td>\n",
       "            <td>19.5</td>\n",
       "        </tr>\n",
       "    </tbody>\n",
       "</table>"
      ],
      "text/plain": [
       "[('Rogers Park', 23.6, 23939, 39.0, 8.7, 18.2),\n",
       " ('West Ridge', 17.2, 23040, 46.0, 8.8, 20.8),\n",
       " ('Uptown', 24.0, 35787, 20.0, 8.9, 11.8),\n",
       " ('Lincoln Square', 10.9, 37524, 17.0, 8.2, 13.4),\n",
       " ('North Center', 7.5, 57123, 6.0, 5.2, 4.5),\n",
       " ('Lake View', 11.4, 60058, 5.0, 4.7, 2.6),\n",
       " ('Lincoln Park', 12.3, 71551, 2.0, 5.1, 3.6),\n",
       " ('Near North Side', 12.9, 88669, 1.0, 7.0, 2.5),\n",
       " ('Edison Park', 3.3, 40959, 8.0, 6.5, 7.4),\n",
       " ('Norwood Park', 5.4, 32875, 21.0, 9.0, 11.5),\n",
       " ('Jefferson Park', 8.6, 27751, 25.0, 12.4, 13.4),\n",
       " ('Forest Glen', 7.5, 44164, 11.0, 6.8, 4.9),\n",
       " ('North Park', 13.2, 26576, 33.0, 9.9, 14.4),\n",
       " ('Albany Park', 19.2, 21323, 53.0, 10.0, 32.9),\n",
       " ('Portage Park', 11.6, 24336, 35.0, 12.6, 19.3),\n",
       " ('Irving Park', 13.1, 27249, 34.0, 10.0, 22.4),\n",
       " ('Dunning', 10.6, 26282, 28.0, 10.0, 16.2),\n",
       " ('Montclaire', 15.3, 22014, 50.0, 13.8, 23.5),\n",
       " ('Belmont Cragin', 18.7, 15461, 70.0, 14.6, 37.3),\n",
       " ('Hermosa', 20.5, 15089, 71.0, 13.1, 41.6),\n",
       " ('Avondale', 15.3, 20039, 42.0, 9.2, 24.7),\n",
       " ('Logan Square', 16.8, 31908, 23.0, 8.2, 14.8),\n",
       " ('Humboldt park', 33.9, 13781, 85.0, 17.3, 35.4),\n",
       " ('West Town', 14.7, 43198, 10.0, 6.6, 12.9),\n",
       " ('Austin', 28.6, 15957, 73.0, 22.6, 24.4),\n",
       " ('West Garfield Park', 41.7, 10934, 92.0, 25.8, 24.5),\n",
       " ('East Garfield Park', 42.4, 12961, 83.0, 19.6, 21.3),\n",
       " ('Near West Side', 20.6, 44689, 15.0, 10.7, 9.6),\n",
       " ('North Lawndale', 43.1, 12034, 87.0, 21.2, 27.6),\n",
       " ('South Lawndale', 30.7, 10402, 96.0, 15.8, 54.8),\n",
       " ('Lower West Side', 25.8, 16444, 76.0, 15.8, 40.7),\n",
       " ('Loop', 14.7, 65526, 3.0, 5.7, 3.1),\n",
       " ('Near South Side', 13.8, 59077, 7.0, 4.9, 7.4),\n",
       " ('Armour Square', 40.1, 16148, 82.0, 16.7, 34.5),\n",
       " ('Douglas', 29.6, 23791, 47.0, 18.2, 14.3),\n",
       " ('Oakland', 39.7, 19252, 78.0, 28.7, 18.4),\n",
       " ('Fuller Park', 51.2, 10432, 97.0, 33.9, 26.6),\n",
       " ('Grand Boulevard', 29.3, 23472, 57.0, 24.3, 15.9),\n",
       " ('Kenwood', 21.7, 35911, 26.0, 15.7, 11.3),\n",
       " ('Washington Park', 42.1, 13785, 88.0, 28.6, 25.4),\n",
       " ('Hyde Park', 18.4, 39056, 14.0, 8.4, 4.3),\n",
       " ('Woodlawn', 30.7, 18672, 58.0, 23.4, 16.5),\n",
       " ('South Shore', 31.1, 19398, 55.0, 20.0, 14.0),\n",
       " ('Chatham', 27.8, 18881, 60.0, 24.0, 14.5),\n",
       " ('Avalon Park', 17.2, 24454, 41.0, 21.1, 10.6),\n",
       " ('South Chicago', 29.8, 16579, 75.0, 19.7, 26.6),\n",
       " ('Burnside', 33.0, 12515, 79.0, 18.6, 19.3),\n",
       " ('Calumet Heights', 11.5, 28887, 38.0, 20.0, 11.0),\n",
       " ('Roseland', 19.8, 17949, 52.0, 20.3, 16.9),\n",
       " ('Pullman', 21.6, 20588, 51.0, 22.8, 13.1),\n",
       " ('South Deering', 29.2, 14685, 65.0, 16.3, 21.0),\n",
       " ('East Side', 19.2, 17104, 64.0, 12.1, 31.9),\n",
       " ('West Pullman', 25.9, 16563, 62.0, 19.4, 20.5),\n",
       " ('Riverdale', 56.5, 8201, 98.0, 34.6, 27.5),\n",
       " ('Hegewisch', 17.1, 22677, 44.0, 9.6, 19.2),\n",
       " ('Garfield Ridge', 8.8, 26353, 32.0, 11.3, 19.3),\n",
       " ('Archer Heights', 14.1, 16134, 67.0, 16.5, 35.9),\n",
       " ('Brighton Park', 23.6, 13089, 84.0, 13.9, 45.1),\n",
       " ('McKinley Park', 18.7, 16954, 61.0, 13.4, 32.9),\n",
       " ('Bridgeport', 18.9, 22694, 43.0, 13.7, 22.2),\n",
       " ('New City', 29.0, 12765, 91.0, 23.0, 41.5),\n",
       " ('West Elsdon', 15.6, 15754, 69.0, 16.7, 37.0),\n",
       " ('Gage Park', 23.4, 12171, 93.0, 18.2, 51.5),\n",
       " ('Clearing', 8.9, 25113, 29.0, 9.5, 18.8),\n",
       " ('West Lawn', 14.9, 16907, 56.0, 9.6, 33.6),\n",
       " ('Chicago Lawn', 27.9, 13231, 80.0, 17.1, 31.2),\n",
       " ('West Englewood', 34.4, 11317, 89.0, 35.9, 26.3),\n",
       " ('Englewood', 46.6, 11888, 94.0, 28.0, 28.5),\n",
       " ('Greater Grand Crossing', 29.6, 17285, 66.0, 23.0, 16.5),\n",
       " ('Ashburn', 10.4, 23482, 37.0, 11.7, 17.7),\n",
       " ('Auburn Gresham', 27.6, 15528, 74.0, 28.3, 18.5),\n",
       " ('Beverly', 5.1, 39523, 12.0, 8.0, 3.7),\n",
       " ('Washington Height', 16.9, 19713, 48.0, 20.8, 13.7),\n",
       " ('Mount Greenwood', 3.4, 34381, 16.0, 8.7, 4.3),\n",
       " ('Morgan Park', 13.2, 27149, 30.0, 15.0, 10.8),\n",
       " (\"O'Hare\", 15.4, 25828, 24.0, 7.1, 10.9),\n",
       " ('Edgewater', 18.2, 33385, 19.0, 9.2, 9.7),\n",
       " ('CHICAGO', 19.7, 28202, None, 12.9, 19.5)]"
      ]
     },
     "execution_count": 488,
     "metadata": {},
     "output_type": "execute_result"
    }
   ],
   "source": [
    "%%sql\n",
    "SELECT DISTINCT COMMUNITY_AREA_NAME, PERCENT_HOUSEHOLDS_BELOW_POVERTY, PER_CAPITA_INCOME, HARDSHIP_INDEX, PERCENT_AGED_16__UNEMPLOYED, PERCENT_AGED_25__WITHOUT_HIGH_SCHOOL_DIPLOMA\n",
    "FROM chicago_census_data;"
   ]
  },
  {
   "cell_type": "code",
   "execution_count": 778,
   "id": "35fd0c3e-c221-4dcd-a4af-7a905f7137cc",
   "metadata": {},
   "outputs": [
    {
     "data": {
      "image/png": "[encoded data removed]",
      "text/plain": [
       "<Figure size 640x480 with 1 Axes>"
      ]
     },
     "metadata": {},
     "output_type": "display_data"
    }
   ],
   "source": [
    "sb.scatterplot(x='PERCENT_AGED_25__WITHOUT_HIGH_SCHOOL_DIPLOMA', y='HARDSHIP_INDEX', data=chicago_census_data, color='green')\n",
    "plt.title('Percent of People Over 25 Without High School Diploma VS Hardship Index', size=10)\n",
    "plt.xlabel('Percent of People Over 25 Without High School Diploma', size=8)\n",
    "plt.ylabel('HardShip Index', size=10)\n",
    "plt.show()"
   ]
  },
  {
   "cell_type": "markdown",
   "id": "7472856b-aa23-4e26-ac47-88ff4b0b0eee",
   "metadata": {},
   "source": [
    "#### From the scatter plot, we can clearly observe that as the percentage of people over 25 without a high school diploma increases, the hardship index also rises. This indicates a positive correlation between these two variables."
   ]
  },
  {
   "cell_type": "code",
   "execution_count": 755,
   "id": "72c3c06d-330d-4c73-a336-7f51c7bbf64f",
   "metadata": {},
   "outputs": [
    {
     "data": {
      "text/plain": [
       "0.8025383898135141"
      ]
     },
     "execution_count": 755,
     "metadata": {},
     "output_type": "execute_result"
    }
   ],
   "source": [
    "# Finding the correlation between the two variables.\n",
    "corr = chicago_census_data['PERCENT_AGED_25__WITHOUT_HIGH_SCHOOL_DIPLOMA'].corr(chicago_census_data['HARDSHIP_INDEX'])\n",
    "corr"
   ]
  },
  {
   "cell_type": "markdown",
   "id": "d4a00760-eb76-4fab-bb00-1d35d0162d4b",
   "metadata": {},
   "source": [
    "#### `The correlation between Percent of People Over 25 Without High School Diploma and Hardship Index is \"0.80\". This strong positive correlation means that as one variable increases, the other is also likely to increase, as demonstrated in the scatter plot.`"
   ]
  },
  {
   "cell_type": "code",
   "execution_count": null,
   "id": "b29a075f-82c1-45ba-99f1-8d541e4636d6",
   "metadata": {},
   "outputs": [],
   "source": []
  },
  {
   "cell_type": "code",
   "execution_count": 776,
   "id": "5da53468-ea75-41ec-a9de-b7a02997c901",
   "metadata": {},
   "outputs": [
    {
     "data": {
      "image/png": "[encoded data removed]",
      "text/plain": [
       "<Figure size 640x480 with 1 Axes>"
      ]
     },
     "metadata": {},
     "output_type": "display_data"
    }
   ],
   "source": [
    "sb.scatterplot(x='PERCENT_AGED_25__WITHOUT_HIGH_SCHOOL_DIPLOMA', y='PER_CAPITA_INCOME', data=chicago_census_data, color='red')\n",
    "plt.title('Percent of People Over 25 Without High School Diploma VS Per Capita Income', size=11)\n",
    "plt.xlabel('Percent of People Over 25 Without High School Diploma', size=8)\n",
    "plt.ylabel('Per Capita Income', size=8)\n",
    "plt.show()"
   ]
  },
  {
   "cell_type": "markdown",
   "id": "b1cb4163-e681-4d0f-9ebe-7ca651e4994b",
   "metadata": {},
   "source": [
    "#### From the scatter plot, we can clearly observe that as the percentage of people over 25 without a high school diploma increases, the per capita income decreases. This indicates a negative correlation between the two variables."
   ]
  },
  {
   "cell_type": "code",
   "execution_count": 769,
   "id": "f0523259-53a4-465d-bbef-3d3743906edc",
   "metadata": {},
   "outputs": [
    {
     "data": {
      "text/plain": [
       "-0.7097704172348066"
      ]
     },
     "execution_count": 769,
     "metadata": {},
     "output_type": "execute_result"
    }
   ],
   "source": [
    "corr2 = chicago_census_data['PERCENT_AGED_25__WITHOUT_HIGH_SCHOOL_DIPLOMA'].corr(chicago_census_data['PER_CAPITA_INCOME'])\n",
    "corr2"
   ]
  },
  {
   "cell_type": "markdown",
   "id": "a8af5de1-4dc1-4feb-83e1-9360784a35dd",
   "metadata": {},
   "source": [
    "#### `The correlation between Percent of People Over 25 Without High School Diploma and Per Capita Income is \"-0.71\". This negative correlation means that as one variable increases, the other is likely to decrease.`"
   ]
  },
  {
   "cell_type": "code",
   "execution_count": null,
   "id": "45c8e26f-e68d-4b9a-ac87-6459f6e77ba8",
   "metadata": {},
   "outputs": [],
   "source": []
  },
  {
   "cell_type": "code",
   "execution_count": 534,
   "id": "fd79b5c3-73b2-445c-9b19-28a7a48bf850",
   "metadata": {},
   "outputs": [
    {
     "data": {
      "image/png": "[encoded data removed]",
      "text/plain": [
       "<Figure size 640x480 with 1 Axes>"
      ]
     },
     "metadata": {},
     "output_type": "display_data"
    }
   ],
   "source": [
    "sb.scatterplot(x='PER_CAPITA_INCOME', y='HARDSHIP_INDEX', data=chicago_census_data, color='red')\n",
    "plt.title('Per Capita Income VS Hardship Index', size=15)\n",
    "plt.xlabel('Per Capita Income', size=12)\n",
    "plt.ylabel('Hardship Index', size=12)\n",
    "plt.show()"
   ]
  },
  {
   "cell_type": "markdown",
   "id": "d3453b27-8394-4ae4-a4ba-95c4329a78f7",
   "metadata": {},
   "source": [
    "#### From the scatter plot, it is clear that as Per Capita Income increases, the Hardship Index decreases significantly. This indicates a strong negative correlation between the two variables."
   ]
  },
  {
   "cell_type": "code",
   "execution_count": 784,
   "id": "2b8d79f3-b433-4d91-99e4-445cfd049cf1",
   "metadata": {},
   "outputs": [
    {
     "data": {
      "text/plain": [
       "-0.8491674629307862"
      ]
     },
     "execution_count": 784,
     "metadata": {},
     "output_type": "execute_result"
    }
   ],
   "source": [
    "corr3 = chicago_census_data['PER_CAPITA_INCOME'].corr(chicago_census_data['HARDSHIP_INDEX'])\n",
    "corr3"
   ]
  },
  {
   "cell_type": "markdown",
   "id": "3693f758-6e90-4402-9d94-69aaa6dd3994",
   "metadata": {},
   "source": [
    "#### `The correlation between Per Capita Income and Hardship Index is \"-0.85\". This strong negative correlation indicates that as Per Capita Income increases, the Hardship Index consistently decreases.`"
   ]
  },
  {
   "cell_type": "code",
   "execution_count": null,
   "id": "055c9d76-ddf3-438a-a501-209b9b16bc01",
   "metadata": {},
   "outputs": [],
   "source": []
  },
  {
   "cell_type": "markdown",
   "id": "692b3d6b-0ff6-4e72-bea0-0b0f06af36fb",
   "metadata": {},
   "source": [
    "## **Conclusion from the Census Data:**\n",
    "#### The data shows a strong dependence of the Hardship Index on Per Capita Income. Areas with higher per capita income tend to have lower Hardship Index values, suggesting that when people can afford necessities and some luxuries, their hardships are reduced. Conversely, areas with lower per capita income experience higher hardship due to a lack of resources. Additionally, a higher percentage of people over 25 without a high school diploma correlates with lower per capita income. This indicates that education is a key factor in income levels, and the lack of higher education contributes to increased hardship."
   ]
  },
  {
   "cell_type": "code",
   "execution_count": null,
   "id": "f17914dd-0ae4-409a-aede-0faaa13945af",
   "metadata": {},
   "outputs": [],
   "source": []
  },
  {
   "cell_type": "markdown",
   "id": "f2522e6b-475d-4b35-9eb4-86177c5c9070",
   "metadata": {},
   "source": [
    "# **`Final Conclusion :`**\n",
    "## 1. `The analysis reveals that higher per capita income is strongly associated with a lower Hardship Index, suggesting that greater financial resources reduce hardship. Additionally, a higher percentage of individuals without a high school diploma correlates with lower income levels, emphasizing the importance of education in mitigating hardship.`\n",
    "## 2. `The analysis reveals that most crimes occur on streets, followed by residences, sidewalks, and apartments, with theft being the most common crime across all locations, followed by battery, criminal damage, and narcotics.`\n",
    "## 3. `We found that all three types of schools—elementary, middle, and high schools—are nearly equal in safety standards, with middle schools being very slightly less safe than the other two.`"
   ]
  },
  {
   "cell_type": "markdown",
   "id": "fc901409-6d48-4308-9092-e78073f78164",
   "metadata": {},
   "source": [
    "# **`Suggestions :`**\n",
    "## 1. **`To Reduce Hardship:`**\n",
    "### - **`Improve access to education:`** `Invest in programs that help individuals obtain high school diplomas and higher education. Building more high schools, raising awareness about the importance of education, and offering low-cost or free higher education can greatly improve income levels.  This could help raise income levels and reduce hardship in areas with lower educational attainment.`\n",
    "### - **`Increase economic opportunities:`** `Targeted policies to increase income in low-income areas, such as job training programs and local economic development initiatives, could help reduce the Hardship Index.`\n",
    "### - **`Attract Foreign Investment:`** `Encouraging foreign companies to set up branches locally will create more job opportunities, increasing income and improving living standards.`\n",
    "\n",
    "\n",
    "## 2. **`To Reduce Crime:`**\n",
    "### - **`Increase policing and security in high-crime areas:`** `Focus on streets and residences, where most crimes occur, by improving law enforcement presence and surveillance.`\n",
    "### - **`Community engagement programs:`** `Promote community watch programs and neighborhood safety initiatives to help prevent crimes like theft and criminal damage.`\n",
    "### - **`Crime prevention education:`** `Launch educational campaigns to reduce crimes such as narcotics abuse and battery by addressing underlying causes like substance addiction and violence.`\n",
    "\n",
    "\n",
    "## 3. **`To Improve School Safety:`**\n",
    "### - **`Targeted safety improvements for middle schools:`** `Since middle schools are slightly less safe, focus on enhancing safety measures such as increased security personnel, better infrastructure, and safety drills.`\n",
    "### - **`Safety training and awareness programs:`** `Provide regular safety training for students and staff at all school levels to reinforce safety practices and encourage vigilance.`"
   ]
  },
  {
   "cell_type": "code",
   "execution_count": null,
   "id": "2383cf1e-1b73-4a15-a16a-23389692fa62",
   "metadata": {},
   "outputs": [],
   "source": []
  }
 ],
 "metadata": {
  "kernelspec": {
   "display_name": "Python [conda env:base] *",
   "language": "python",
   "name": "conda-base-py"
  },
  "language_info": {
   "codemirror_mode": {
    "name": "ipython",
    "version": 3
   },
   "file_extension": ".py",
   "mimetype": "text/x-python",
   "name": "python",
   "nbconvert_exporter": "python",
   "pygments_lexer": "ipython3",
   "version": "3.12.4"
  }
 },
 "nbformat": 4,
 "nbformat_minor": 5
}
